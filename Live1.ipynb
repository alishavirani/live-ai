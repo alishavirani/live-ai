{
 "metadata": {
  "language_info": {
   "codemirror_mode": {
    "name": "ipython",
    "version": 3
   },
   "file_extension": ".py",
   "mimetype": "text/x-python",
   "name": "python",
   "nbconvert_exporter": "python",
   "pygments_lexer": "ipython3",
   "version": "3.8.5-final"
  },
  "orig_nbformat": 2,
  "kernelspec": {
   "name": "python3",
   "display_name": "Python 3.8.5 64-bit (conda)",
   "metadata": {
    "interpreter": {
     "hash": "028033a7d1250b001046001285c12bd84b28218d12cf099fa634c9d17bfeaac5"
    }
   }
  }
 },
 "nbformat": 4,
 "nbformat_minor": 2,
 "cells": [
  {
   "cell_type": "code",
   "execution_count": null,
   "metadata": {},
   "outputs": [],
   "source": [
    "Problem 1: Add 2 randomly generated Numpy matrices"
   ]
  },
  {
   "cell_type": "code",
   "execution_count": null,
   "metadata": {},
   "outputs": [],
   "source": [
    "Sub task: create a random no matrix of size 5X4"
   ]
  },
  {
   "cell_type": "code",
   "execution_count": 1,
   "metadata": {},
   "outputs": [],
   "source": [
    "import numpy as np\n",
    "import math"
   ]
  },
  {
   "cell_type": "code",
   "execution_count": 2,
   "metadata": {},
   "outputs": [
    {
     "output_type": "stream",
     "name": "stdout",
     "text": [
      "[[2 2 1 8]\n [6 5 5 7]\n [9 9 5 6]\n [8 4 7 6]\n [8 5 6 8]]\n[[4 7 6 4]\n [3 6 3 6]\n [6 2 8 7]\n [9 2 8 7]\n [1 2 3 5]]\n"
     ]
    }
   ],
   "source": [
    "A = np.random.randint(1,10, (5,4))\n",
    "B = np.random.randint(1,10, (5,4))\n",
    "C = np.zeros((5,4))\n",
    "print(A)\n",
    "# print(A.shape)\n",
    "# print(type(A))\n",
    "print(B)"
   ]
  },
  {
   "cell_type": "code",
   "execution_count": 42,
   "metadata": {},
   "outputs": [
    {
     "output_type": "stream",
     "name": "stdout",
     "text": [
      "5 4\n[[10. 15.  7. 17.]\n [11. 10.  5.  9.]\n [ 9. 10.  7.  8.]\n [12. 15. 13. 15.]\n [ 7. 10. 10. 10.]]\n"
     ]
    }
   ],
   "source": [
    "# Logic: Ci,j = Ai,j + Bi,j\n",
    "\n",
    "rows, cols = A.shape\n",
    "\n",
    "print(rows, cols)\n",
    "for i in range(rows):\n",
    "    for j in range(cols):\n",
    "        C[i,j] = A[i,j] + B[i,j]\n",
    "\n",
    "print(C)"
   ]
  },
  {
   "cell_type": "code",
   "execution_count": 43,
   "metadata": {},
   "outputs": [
    {
     "output_type": "stream",
     "name": "stdout",
     "text": [
      "[[10 15  7 17]\n [11 10  5  9]\n [ 9 10  7  8]\n [12 15 13 15]\n [ 7 10 10 10]]\n"
     ]
    }
   ],
   "source": [
    "C = A + B\n",
    "print(C)"
   ]
  },
  {
   "cell_type": "code",
   "execution_count": null,
   "metadata": {},
   "outputs": [],
   "source": [
    "Time Complexity = O(nm) where n is no. of rows, m is no. of columns\n",
    "= O(n^2) if m= n\n",
    "\n",
    "Space Complexity = O(1)\n",
    "we don't count the input and output variables for space complexity, we just count i,j, rows, cols which hold constant values"
   ]
  },
  {
   "cell_type": "code",
   "execution_count": null,
   "metadata": {},
   "outputs": [],
   "source": [
    "Exercise: Add two randomly generated NumPy 3D-matrices(tensor) using loops"
   ]
  },
  {
   "cell_type": "code",
   "execution_count": 68,
   "metadata": {},
   "outputs": [
    {
     "output_type": "stream",
     "name": "stdout",
     "text": [
      "(5, 4, 3)\n"
     ]
    }
   ],
   "source": [
    "A = np.random.randint(1,10, (5,4,3))\n",
    "B = np.random.randint(1,10, (5,4,3))\n",
    "C = np.zeros((5,4,3))\n",
    "# print(A)\n",
    "print(A.shape)\n",
    "# print(type(A))\n",
    "# print(B)"
   ]
  },
  {
   "cell_type": "code",
   "execution_count": 72,
   "metadata": {},
   "outputs": [
    {
     "output_type": "stream",
     "name": "stdout",
     "text": [
      "5 4 3\n[[[10.  9. 12.]\n  [14. 14. 10.]\n  [10. 17.  2.]\n  [ 9. 13. 12.]]\n\n [[ 7. 16.  8.]\n  [17.  9. 11.]\n  [11.  4.  8.]\n  [ 8.  9.  6.]]\n\n [[14.  8.  3.]\n  [10. 10.  9.]\n  [11. 16.  7.]\n  [ 9.  7. 15.]]\n\n [[17. 12. 15.]\n  [10. 13.  5.]\n  [ 4.  7.  6.]\n  [16.  2. 15.]]\n\n [[ 7. 13. 10.]\n  [11. 17. 12.]\n  [ 8.  7. 12.]\n  [ 7.  7. 12.]]]\n"
     ]
    }
   ],
   "source": [
    "rows, cols, dimension = A.shape\n",
    "\n",
    "print(rows, cols, dimension)\n",
    "for i in range(rows):\n",
    "    for j in range(cols):\n",
    "        for k in range(dimension):\n",
    "            C[i,j,k] = A[i,j,k] + B[i,j,k]\n",
    "\n",
    "print(C)"
   ]
  },
  {
   "cell_type": "code",
   "execution_count": null,
   "metadata": {},
   "outputs": [],
   "source": [
    "Problem 2: Find if a given 2D-point is inside (or) outside a circle"
   ]
  },
  {
   "cell_type": "code",
   "execution_count": null,
   "metadata": {},
   "outputs": [],
   "source": [
    "In a 2d space circle can be represented using radius (Cx, Cy) and its radius\n",
    "Point can be represented by 2 points say Px, Py\n",
    "\n",
    "to check if a point is inside/outside the circle, compute the distance (d) of the point from the centre of the circle, with the radius(r)\n",
    "if d < r: inside the circle\n",
    "if d==r: on the circle\n",
    "if d > r: outside the circle\n",
    "\n",
    "d = sqrt((Cx - Px)^2 + (Cy - Py)^2)"
   ]
  },
  {
   "cell_type": "code",
   "execution_count": 45,
   "metadata": {},
   "outputs": [],
   "source": [
    "(cx, cy, r) = input(\"Enter Cx, Cy, R\").split()\n",
    "(px, py) = input(\"Enter Px, Py\").split()"
   ]
  },
  {
   "cell_type": "code",
   "execution_count": 46,
   "metadata": {},
   "outputs": [
    {
     "output_type": "stream",
     "name": "stdout",
     "text": [
      "0 0 5\n1 1\n"
     ]
    }
   ],
   "source": [
    "print(cx, cy, r)\n",
    "print(px, py)"
   ]
  },
  {
   "cell_type": "code",
   "execution_count": 47,
   "metadata": {},
   "outputs": [
    {
     "output_type": "stream",
     "name": "stdout",
     "text": [
      "1.0\nPoint is outside the circle\n"
     ]
    }
   ],
   "source": [
    "cx = float(cx)\n",
    "cy = float(cy)\n",
    "r = float(r)\n",
    "px = float(px)\n",
    "py = float(py)\n",
    "\n",
    "d = math.sqrt((cx - px)**2 + (py-px)**2)\n",
    "print(d)\n",
    "\n",
    "if d > r:\n",
    "    print(\"Point is outside the circle\")\n",
    "elif d == r:\n",
    "    print(\"Point is on the circle\")\n",
    "else:\n",
    "    print(\"Point is outside the circle\")"
   ]
  },
  {
   "cell_type": "code",
   "execution_count": null,
   "metadata": {},
   "outputs": [],
   "source": [
    "Exercise: Find if a given 2D-point is inside (or) outside a rectangle "
   ]
  },
  {
   "cell_type": "code",
   "execution_count": null,
   "metadata": {},
   "outputs": [],
   "source": [
    "Take the diagonal co-ordinates of the rectangle and see if the top y co-ordinate is greater than the point's y-cordinate and the top x co-ordinate is lesser than the point's x-cordinate\n",
    "And\n",
    "the bottom y co-ordinate is greater than the point's y-cordinate and the bottom x co-ordinate is greater than the point's x-cordinate"
   ]
  },
  {
   "cell_type": "code",
   "execution_count": 80,
   "metadata": {},
   "outputs": [
    {
     "output_type": "stream",
     "name": "stdout",
     "text": [
      "0 5 5 0 2 2\n"
     ]
    }
   ],
   "source": [
    "(x1, y1) = input(\"Enter top left co-ordinates\").split()\n",
    "(x2, y2) = input(\"Enter bottom right co-ordinates\").split()\n",
    "(px, py) = input(\"Enter Px, Py\").split()\n",
    "\n",
    "print(x1, y1, x2, y2, px, py)"
   ]
  },
  {
   "cell_type": "code",
   "execution_count": 81,
   "metadata": {},
   "outputs": [
    {
     "output_type": "stream",
     "name": "stdout",
     "text": [
      "point is inside the circle\n"
     ]
    }
   ],
   "source": [
    "x1 = float(x1)\n",
    "y1 = float(y1)\n",
    "x2 = float(x2)\n",
    "y2 = float(y2)\n",
    "px = float(px)\n",
    "py = float(py)\n",
    "\n",
    "if px >= x1 and py <= y1 and px <= x2 and py >= y2:\n",
    "    print(\"point is inside the circle\")\n",
    "else:\n",
    "    print(\"point is outside the circle\")"
   ]
  },
  {
   "cell_type": "code",
   "execution_count": null,
   "metadata": {},
   "outputs": [],
   "source": [
    "Problem 3: NumPy ndarray manipulation operations"
   ]
  },
  {
   "cell_type": "code",
   "execution_count": 49,
   "metadata": {},
   "outputs": [],
   "source": [
    "#reshape errors"
   ]
  },
  {
   "cell_type": "code",
   "execution_count": 50,
   "metadata": {},
   "outputs": [
    {
     "output_type": "stream",
     "name": "stdout",
     "text": [
      "[[0.15123651 0.6211914  0.31601582 0.21137513]\n [0.53648543 0.90728292 0.68856478 0.89592441]\n [0.28893051 0.28623808 0.25528695 0.79920401]\n [0.39107899 0.48115232 0.89492875 0.20947957]\n [0.9779929  0.761051   0.76162072 0.90882229]]\n"
     ]
    }
   ],
   "source": [
    "A = np.random.rand(5,4)\n",
    "print(A)"
   ]
  },
  {
   "cell_type": "code",
   "execution_count": 52,
   "metadata": {},
   "outputs": [
    {
     "output_type": "execute_result",
     "data": {
      "text/plain": [
       "array([0.15123651, 0.6211914 , 0.31601582, 0.21137513, 0.53648543,\n",
       "       0.90728292, 0.68856478, 0.89592441, 0.28893051, 0.28623808,\n",
       "       0.25528695, 0.79920401, 0.39107899, 0.48115232, 0.89492875,\n",
       "       0.20947957, 0.9779929 , 0.761051  , 0.76162072, 0.90882229])"
      ]
     },
     "metadata": {},
     "execution_count": 52
    }
   ],
   "source": [
    "#convert matrix to vector\n",
    "np.reshape(A, 20, 'C') #array, shape int/tuple, major order\n",
    "#C: row major order: o/p is arranged by rows\n",
    "#F: column major order: o/p is arranged by columns"
   ]
  },
  {
   "cell_type": "code",
   "execution_count": 53,
   "metadata": {},
   "outputs": [
    {
     "output_type": "execute_result",
     "data": {
      "text/plain": [
       "array([0.15123651, 0.53648543, 0.28893051, 0.39107899, 0.9779929 ,\n",
       "       0.6211914 , 0.90728292, 0.28623808, 0.48115232, 0.761051  ,\n",
       "       0.31601582, 0.68856478, 0.25528695, 0.89492875, 0.76162072,\n",
       "       0.21137513, 0.89592441, 0.79920401, 0.20947957, 0.90882229])"
      ]
     },
     "metadata": {},
     "execution_count": 53
    }
   ],
   "source": [
    "np.reshape(A, 20, 'F')"
   ]
  },
  {
   "cell_type": "code",
   "execution_count": 54,
   "metadata": {},
   "outputs": [
    {
     "output_type": "execute_result",
     "data": {
      "text/plain": [
       "array([[0.15123651, 0.6211914 , 0.31601582, 0.21137513, 0.53648543],\n",
       "       [0.90728292, 0.68856478, 0.89592441, 0.28893051, 0.28623808],\n",
       "       [0.25528695, 0.79920401, 0.39107899, 0.48115232, 0.89492875],\n",
       "       [0.20947957, 0.9779929 , 0.761051  , 0.76162072, 0.90882229]])"
      ]
     },
     "metadata": {},
     "execution_count": 54
    }
   ],
   "source": [
    "#convert 5X4 to 4X5\n",
    "np.reshape(A, (4,5), 'C')"
   ]
  },
  {
   "cell_type": "code",
   "execution_count": 55,
   "metadata": {},
   "outputs": [
    {
     "output_type": "execute_result",
     "data": {
      "text/plain": [
       "array([[0.15123651, 0.6211914 , 0.31601582, 0.21137513, 0.53648543],\n",
       "       [0.90728292, 0.68856478, 0.89592441, 0.28893051, 0.28623808],\n",
       "       [0.25528695, 0.79920401, 0.39107899, 0.48115232, 0.89492875],\n",
       "       [0.20947957, 0.9779929 , 0.761051  , 0.76162072, 0.90882229]])"
      ]
     },
     "metadata": {},
     "execution_count": 55
    }
   ],
   "source": [
    "#convert 5X4 to 4X5\n",
    "np.reshape(A, (4,-1), 'C')\n",
    "#-1 means o/p should have 4 rows and rest of the elements should be arranged in columns - it will automatically interpret 4,5 "
   ]
  },
  {
   "cell_type": "code",
   "execution_count": 56,
   "metadata": {},
   "outputs": [
    {
     "output_type": "execute_result",
     "data": {
      "text/plain": [
       "array([[0.15123651, 0.6211914 , 0.31601582, 0.21137513, 0.53648543],\n",
       "       [0.90728292, 0.68856478, 0.89592441, 0.28893051, 0.28623808],\n",
       "       [0.25528695, 0.79920401, 0.39107899, 0.48115232, 0.89492875],\n",
       "       [0.20947957, 0.9779929 , 0.761051  , 0.76162072, 0.90882229]])"
      ]
     },
     "metadata": {},
     "execution_count": 56
    }
   ],
   "source": [
    "#convert 5X4 to 4X5\n",
    "np.reshape(A, (-1,5), 'C')\n",
    "#-1 means o/p should have 5 columns and rest of the elements should be arranged in rows - it will automatically interpret 4,5 "
   ]
  },
  {
   "cell_type": "code",
   "execution_count": null,
   "metadata": {},
   "outputs": [],
   "source": [
    "Exercise: take a tensor of size 4X5X6 and convert it into a tensor of vector and then matrix (10X12)."
   ]
  },
  {
   "cell_type": "code",
   "execution_count": 83,
   "metadata": {},
   "outputs": [],
   "source": [
    "A = np.random.rand(4,5,6)\n",
    "# print(A)"
   ]
  },
  {
   "cell_type": "code",
   "execution_count": 85,
   "metadata": {},
   "outputs": [],
   "source": [
    "#convert matrix to vector\n",
    "# np.reshape(A, 120, 'C') "
   ]
  },
  {
   "cell_type": "code",
   "execution_count": 87,
   "metadata": {},
   "outputs": [],
   "source": [
    "# np.reshape(A, (10,12), 'C')"
   ]
  },
  {
   "cell_type": "code",
   "execution_count": 57,
   "metadata": {},
   "outputs": [],
   "source": [
    "#Stacking"
   ]
  },
  {
   "cell_type": "code",
   "execution_count": null,
   "metadata": {},
   "outputs": [],
   "source": []
  },
  {
   "cell_type": "code",
   "execution_count": 58,
   "metadata": {},
   "outputs": [
    {
     "output_type": "stream",
     "name": "stdout",
     "text": [
      "[[0.74869913 0.35120044 0.31996793 0.04173871]\n [0.47029847 0.6158651  0.97657453 0.78661982]\n [0.11710376 0.80480159 0.27420699 0.93882788]\n [0.23452822 0.09899583 0.58021079 0.5005807 ]\n [0.34756637 0.87553446 0.77096327 0.89561755]]\n[[0.68724449 0.7204441 ]\n [0.33742178 0.83333191]\n [0.2951784  0.1662942 ]\n [0.56926271 0.81297694]\n [0.42955497 0.08360913]]\n"
     ]
    }
   ],
   "source": [
    "A = np.random.rand(5,4);\n",
    "print(A);\n",
    "\n",
    "B= np.random.rand(5,2);\n",
    "print(B)"
   ]
  },
  {
   "cell_type": "code",
   "execution_count": 59,
   "metadata": {},
   "outputs": [],
   "source": [
    "#we can combine/concatenate/stack matrices horizontally or vertically\n",
    "# horizontal stacking ie add the 2 cols of B in A, cant stack them vertically"
   ]
  },
  {
   "cell_type": "code",
   "execution_count": 60,
   "metadata": {},
   "outputs": [
    {
     "output_type": "stream",
     "name": "stdout",
     "text": [
      "[[0.74869913 0.35120044 0.31996793 0.04173871 0.68724449 0.7204441 ]\n [0.47029847 0.6158651  0.97657453 0.78661982 0.33742178 0.83333191]\n [0.11710376 0.80480159 0.27420699 0.93882788 0.2951784  0.1662942 ]\n [0.23452822 0.09899583 0.58021079 0.5005807  0.56926271 0.81297694]\n [0.34756637 0.87553446 0.77096327 0.89561755 0.42955497 0.08360913]]\n"
     ]
    }
   ],
   "source": [
    "#horizontal stacking\n",
    "C = np.hstack((A, B)); # input: takes a tuple of nd arrays\n",
    "print(C)"
   ]
  },
  {
   "cell_type": "code",
   "execution_count": 61,
   "metadata": {},
   "outputs": [
    {
     "output_type": "stream",
     "name": "stdout",
     "text": [
      "[[0.35941418 0.55837643 0.22651938 0.12433046]\n [0.22795984 0.82724949 0.48311016 0.56970991]\n [0.56006978 0.48054065 0.21426909 0.88199496]\n [0.06814746 0.57181577 0.56385919 0.55497164]\n [0.67176358 0.35301679 0.95824233 0.95136272]]\n[[0.56760993 0.78782454 0.6576128  0.74465865]\n [0.56405798 0.06100695 0.73835871 0.80272284]\n [0.09403384 0.40506433 0.76228407 0.36225365]\n [0.19280529 0.96993864 0.1405254  0.3634324 ]]\n"
     ]
    },
    {
     "output_type": "error",
     "ename": "ValueError",
     "evalue": "all the input array dimensions for the concatenation axis must match exactly, but along dimension 0, the array at index 0 has size 5 and the array at index 1 has size 4",
     "traceback": [
      "\u001b[1;31m---------------------------------------------------------------------------\u001b[0m",
      "\u001b[1;31mValueError\u001b[0m                                Traceback (most recent call last)",
      "\u001b[1;32m<ipython-input-61-daed3de7c0c2>\u001b[0m in \u001b[0;36m<module>\u001b[1;34m\u001b[0m\n\u001b[0;32m      5\u001b[0m \u001b[0mprint\u001b[0m\u001b[1;33m(\u001b[0m\u001b[0mB\u001b[0m\u001b[1;33m)\u001b[0m\u001b[1;33m\u001b[0m\u001b[1;33m\u001b[0m\u001b[0m\n\u001b[0;32m      6\u001b[0m \u001b[1;33m\u001b[0m\u001b[0m\n\u001b[1;32m----> 7\u001b[1;33m \u001b[0mC\u001b[0m \u001b[1;33m=\u001b[0m \u001b[0mnp\u001b[0m\u001b[1;33m.\u001b[0m\u001b[0mhstack\u001b[0m\u001b[1;33m(\u001b[0m\u001b[1;33m(\u001b[0m\u001b[0mA\u001b[0m\u001b[1;33m,\u001b[0m \u001b[0mB\u001b[0m\u001b[1;33m)\u001b[0m\u001b[1;33m)\u001b[0m\u001b[1;33m;\u001b[0m\u001b[1;33m\u001b[0m\u001b[1;33m\u001b[0m\u001b[0m\n\u001b[0m\u001b[0;32m      8\u001b[0m \u001b[0mprint\u001b[0m\u001b[1;33m(\u001b[0m\u001b[0mC\u001b[0m\u001b[1;33m)\u001b[0m\u001b[1;33m\u001b[0m\u001b[1;33m\u001b[0m\u001b[0m\n",
      "\u001b[1;32m<__array_function__ internals>\u001b[0m in \u001b[0;36mhstack\u001b[1;34m(*args, **kwargs)\u001b[0m\n",
      "\u001b[1;32m~\\anaconda3\\lib\\site-packages\\numpy\\core\\shape_base.py\u001b[0m in \u001b[0;36mhstack\u001b[1;34m(tup)\u001b[0m\n\u001b[0;32m    344\u001b[0m         \u001b[1;32mreturn\u001b[0m \u001b[0m_nx\u001b[0m\u001b[1;33m.\u001b[0m\u001b[0mconcatenate\u001b[0m\u001b[1;33m(\u001b[0m\u001b[0marrs\u001b[0m\u001b[1;33m,\u001b[0m \u001b[1;36m0\u001b[0m\u001b[1;33m)\u001b[0m\u001b[1;33m\u001b[0m\u001b[1;33m\u001b[0m\u001b[0m\n\u001b[0;32m    345\u001b[0m     \u001b[1;32melse\u001b[0m\u001b[1;33m:\u001b[0m\u001b[1;33m\u001b[0m\u001b[1;33m\u001b[0m\u001b[0m\n\u001b[1;32m--> 346\u001b[1;33m         \u001b[1;32mreturn\u001b[0m \u001b[0m_nx\u001b[0m\u001b[1;33m.\u001b[0m\u001b[0mconcatenate\u001b[0m\u001b[1;33m(\u001b[0m\u001b[0marrs\u001b[0m\u001b[1;33m,\u001b[0m \u001b[1;36m1\u001b[0m\u001b[1;33m)\u001b[0m\u001b[1;33m\u001b[0m\u001b[1;33m\u001b[0m\u001b[0m\n\u001b[0m\u001b[0;32m    347\u001b[0m \u001b[1;33m\u001b[0m\u001b[0m\n\u001b[0;32m    348\u001b[0m \u001b[1;33m\u001b[0m\u001b[0m\n",
      "\u001b[1;32m<__array_function__ internals>\u001b[0m in \u001b[0;36mconcatenate\u001b[1;34m(*args, **kwargs)\u001b[0m\n",
      "\u001b[1;31mValueError\u001b[0m: all the input array dimensions for the concatenation axis must match exactly, but along dimension 0, the array at index 0 has size 5 and the array at index 1 has size 4"
     ]
    }
   ],
   "source": [
    "A = np.random.rand(5,4);\n",
    "print(A);\n",
    "\n",
    "B= np.random.rand(4,4);\n",
    "print(B)\n",
    "\n",
    "C = np.hstack((A, B)); #not possible\n",
    "print(C)"
   ]
  },
  {
   "cell_type": "code",
   "execution_count": 62,
   "metadata": {},
   "outputs": [
    {
     "output_type": "stream",
     "name": "stdout",
     "text": [
      "[[0.35941418 0.55837643 0.22651938 0.12433046]\n [0.22795984 0.82724949 0.48311016 0.56970991]\n [0.56006978 0.48054065 0.21426909 0.88199496]\n [0.06814746 0.57181577 0.56385919 0.55497164]\n [0.67176358 0.35301679 0.95824233 0.95136272]\n [0.56760993 0.78782454 0.6576128  0.74465865]\n [0.56405798 0.06100695 0.73835871 0.80272284]\n [0.09403384 0.40506433 0.76228407 0.36225365]\n [0.19280529 0.96993864 0.1405254  0.3634324 ]]\n"
     ]
    }
   ],
   "source": [
    "C = np.vstack((A, B))\n",
    "print(C)"
   ]
  },
  {
   "cell_type": "code",
   "execution_count": 63,
   "metadata": {},
   "outputs": [
    {
     "output_type": "stream",
     "name": "stdout",
     "text": [
      "(5, 4, 3)\n(5, 3, 3)\n(5, 7, 3)\n"
     ]
    }
   ],
   "source": [
    "# 3D tensors\n",
    "A = np.random.rand(5,4,3); # (height, width, colors(R,G,B)/depth) in images is a good way to think of this, refer image 1\n",
    "print(A.shape);\n",
    "\n",
    "B= np.random.rand(5,3,3);\n",
    "print(B.shape)\n",
    "\n",
    "C = np.hstack((A, B)); #we can combine them horizontally bcoz its height and depth are the same, refer image 2\n",
    "print(C.shape)"
   ]
  },
  {
   "cell_type": "code",
   "execution_count": 88,
   "metadata": {},
   "outputs": [
    {
     "output_type": "stream",
     "name": "stdout",
     "text": [
      "(5, 4, 3)\n(4, 3, 3)\n"
     ]
    },
    {
     "output_type": "error",
     "ename": "ValueError",
     "evalue": "all the input array dimensions for the concatenation axis must match exactly, but along dimension 1, the array at index 0 has size 4 and the array at index 1 has size 3",
     "traceback": [
      "\u001b[1;31m---------------------------------------------------------------------------\u001b[0m",
      "\u001b[1;31mValueError\u001b[0m                                Traceback (most recent call last)",
      "\u001b[1;32m<ipython-input-88-f7a995ee6660>\u001b[0m in \u001b[0;36m<module>\u001b[1;34m\u001b[0m\n\u001b[0;32m      6\u001b[0m \u001b[0mprint\u001b[0m\u001b[1;33m(\u001b[0m\u001b[0mB\u001b[0m\u001b[1;33m.\u001b[0m\u001b[0mshape\u001b[0m\u001b[1;33m)\u001b[0m\u001b[1;33m\u001b[0m\u001b[1;33m\u001b[0m\u001b[0m\n\u001b[0;32m      7\u001b[0m \u001b[1;33m\u001b[0m\u001b[0m\n\u001b[1;32m----> 8\u001b[1;33m \u001b[0mC\u001b[0m \u001b[1;33m=\u001b[0m \u001b[0mnp\u001b[0m\u001b[1;33m.\u001b[0m\u001b[0mvstack\u001b[0m\u001b[1;33m(\u001b[0m\u001b[1;33m(\u001b[0m\u001b[0mA\u001b[0m\u001b[1;33m,\u001b[0m\u001b[0mB\u001b[0m\u001b[1;33m)\u001b[0m\u001b[1;33m)\u001b[0m\u001b[1;33m\u001b[0m\u001b[1;33m\u001b[0m\u001b[0m\n\u001b[0m\u001b[0;32m      9\u001b[0m \u001b[0mprint\u001b[0m\u001b[1;33m(\u001b[0m\u001b[0mC\u001b[0m\u001b[1;33m.\u001b[0m\u001b[0mshape\u001b[0m\u001b[1;33m)\u001b[0m\u001b[1;33m\u001b[0m\u001b[1;33m\u001b[0m\u001b[0m\n\u001b[0;32m     10\u001b[0m \u001b[1;33m\u001b[0m\u001b[0m\n",
      "\u001b[1;32m<__array_function__ internals>\u001b[0m in \u001b[0;36mvstack\u001b[1;34m(*args, **kwargs)\u001b[0m\n",
      "\u001b[1;32m~\\anaconda3\\lib\\site-packages\\numpy\\core\\shape_base.py\u001b[0m in \u001b[0;36mvstack\u001b[1;34m(tup)\u001b[0m\n\u001b[0;32m    281\u001b[0m     \u001b[1;32mif\u001b[0m \u001b[1;32mnot\u001b[0m \u001b[0misinstance\u001b[0m\u001b[1;33m(\u001b[0m\u001b[0marrs\u001b[0m\u001b[1;33m,\u001b[0m \u001b[0mlist\u001b[0m\u001b[1;33m)\u001b[0m\u001b[1;33m:\u001b[0m\u001b[1;33m\u001b[0m\u001b[1;33m\u001b[0m\u001b[0m\n\u001b[0;32m    282\u001b[0m         \u001b[0marrs\u001b[0m \u001b[1;33m=\u001b[0m \u001b[1;33m[\u001b[0m\u001b[0marrs\u001b[0m\u001b[1;33m]\u001b[0m\u001b[1;33m\u001b[0m\u001b[1;33m\u001b[0m\u001b[0m\n\u001b[1;32m--> 283\u001b[1;33m     \u001b[1;32mreturn\u001b[0m \u001b[0m_nx\u001b[0m\u001b[1;33m.\u001b[0m\u001b[0mconcatenate\u001b[0m\u001b[1;33m(\u001b[0m\u001b[0marrs\u001b[0m\u001b[1;33m,\u001b[0m \u001b[1;36m0\u001b[0m\u001b[1;33m)\u001b[0m\u001b[1;33m\u001b[0m\u001b[1;33m\u001b[0m\u001b[0m\n\u001b[0m\u001b[0;32m    284\u001b[0m \u001b[1;33m\u001b[0m\u001b[0m\n\u001b[0;32m    285\u001b[0m \u001b[1;33m\u001b[0m\u001b[0m\n",
      "\u001b[1;32m<__array_function__ internals>\u001b[0m in \u001b[0;36mconcatenate\u001b[1;34m(*args, **kwargs)\u001b[0m\n",
      "\u001b[1;31mValueError\u001b[0m: all the input array dimensions for the concatenation axis must match exactly, but along dimension 1, the array at index 0 has size 4 and the array at index 1 has size 3"
     ]
    }
   ],
   "source": [
    "# 3D tensors\n",
    "A = np.random.rand(5,4,3);\n",
    "print(A.shape);\n",
    "\n",
    "B= np.random.rand(4,3,3);\n",
    "print(B.shape)\n",
    "\n",
    "C = np.vstack((A,B))\n",
    "print(C.shape)\n",
    "\n",
    "C = np.hstack((A, B)); #not possible bcoz height/rows is not the same, refer image 3\n",
    "print(C.shape)"
   ]
  },
  {
   "cell_type": "code",
   "execution_count": 89,
   "metadata": {},
   "outputs": [
    {
     "output_type": "stream",
     "name": "stdout",
     "text": [
      "(5, 4, 3)\n(5, 4, 2)\n"
     ]
    },
    {
     "output_type": "error",
     "ename": "ValueError",
     "evalue": "all the input array dimensions for the concatenation axis must match exactly, but along dimension 2, the array at index 0 has size 3 and the array at index 1 has size 2",
     "traceback": [
      "\u001b[1;31m---------------------------------------------------------------------------\u001b[0m",
      "\u001b[1;31mValueError\u001b[0m                                Traceback (most recent call last)",
      "\u001b[1;32m<ipython-input-89-c4a269b3bad8>\u001b[0m in \u001b[0;36m<module>\u001b[1;34m\u001b[0m\n\u001b[0;32m      6\u001b[0m \u001b[0mprint\u001b[0m\u001b[1;33m(\u001b[0m\u001b[0mB\u001b[0m\u001b[1;33m.\u001b[0m\u001b[0mshape\u001b[0m\u001b[1;33m)\u001b[0m\u001b[1;33m\u001b[0m\u001b[1;33m\u001b[0m\u001b[0m\n\u001b[0;32m      7\u001b[0m \u001b[1;33m\u001b[0m\u001b[0m\n\u001b[1;32m----> 8\u001b[1;33m \u001b[0mC\u001b[0m \u001b[1;33m=\u001b[0m \u001b[0mnp\u001b[0m\u001b[1;33m.\u001b[0m\u001b[0mvstack\u001b[0m\u001b[1;33m(\u001b[0m\u001b[1;33m(\u001b[0m\u001b[0mA\u001b[0m\u001b[1;33m,\u001b[0m \u001b[0mB\u001b[0m\u001b[1;33m)\u001b[0m\u001b[1;33m)\u001b[0m\u001b[1;33m;\u001b[0m\u001b[1;33m\u001b[0m\u001b[1;33m\u001b[0m\u001b[0m\n\u001b[0m\u001b[0;32m      9\u001b[0m \u001b[0mprint\u001b[0m\u001b[1;33m(\u001b[0m\u001b[0mC\u001b[0m\u001b[1;33m.\u001b[0m\u001b[0mshape\u001b[0m\u001b[1;33m)\u001b[0m\u001b[1;33m\u001b[0m\u001b[1;33m\u001b[0m\u001b[0m\n",
      "\u001b[1;32m<__array_function__ internals>\u001b[0m in \u001b[0;36mvstack\u001b[1;34m(*args, **kwargs)\u001b[0m\n",
      "\u001b[1;32m~\\anaconda3\\lib\\site-packages\\numpy\\core\\shape_base.py\u001b[0m in \u001b[0;36mvstack\u001b[1;34m(tup)\u001b[0m\n\u001b[0;32m    281\u001b[0m     \u001b[1;32mif\u001b[0m \u001b[1;32mnot\u001b[0m \u001b[0misinstance\u001b[0m\u001b[1;33m(\u001b[0m\u001b[0marrs\u001b[0m\u001b[1;33m,\u001b[0m \u001b[0mlist\u001b[0m\u001b[1;33m)\u001b[0m\u001b[1;33m:\u001b[0m\u001b[1;33m\u001b[0m\u001b[1;33m\u001b[0m\u001b[0m\n\u001b[0;32m    282\u001b[0m         \u001b[0marrs\u001b[0m \u001b[1;33m=\u001b[0m \u001b[1;33m[\u001b[0m\u001b[0marrs\u001b[0m\u001b[1;33m]\u001b[0m\u001b[1;33m\u001b[0m\u001b[1;33m\u001b[0m\u001b[0m\n\u001b[1;32m--> 283\u001b[1;33m     \u001b[1;32mreturn\u001b[0m \u001b[0m_nx\u001b[0m\u001b[1;33m.\u001b[0m\u001b[0mconcatenate\u001b[0m\u001b[1;33m(\u001b[0m\u001b[0marrs\u001b[0m\u001b[1;33m,\u001b[0m \u001b[1;36m0\u001b[0m\u001b[1;33m)\u001b[0m\u001b[1;33m\u001b[0m\u001b[1;33m\u001b[0m\u001b[0m\n\u001b[0m\u001b[0;32m    284\u001b[0m \u001b[1;33m\u001b[0m\u001b[0m\n\u001b[0;32m    285\u001b[0m \u001b[1;33m\u001b[0m\u001b[0m\n",
      "\u001b[1;32m<__array_function__ internals>\u001b[0m in \u001b[0;36mconcatenate\u001b[1;34m(*args, **kwargs)\u001b[0m\n",
      "\u001b[1;31mValueError\u001b[0m: all the input array dimensions for the concatenation axis must match exactly, but along dimension 2, the array at index 0 has size 3 and the array at index 1 has size 2"
     ]
    }
   ],
   "source": [
    "# 3D tensors\n",
    "A = np.random.rand(5,4,3);\n",
    "print(A.shape)\n",
    "\n",
    "B= np.random.rand(5,4,2); #depth is not matching, , refer image 4\n",
    "print(B.shape)\n",
    "\n",
    "C = np.hstack((A, B));\n",
    "print(C.shape)"
   ]
  },
  {
   "cell_type": "code",
   "execution_count": 66,
   "metadata": {},
   "outputs": [
    {
     "output_type": "stream",
     "name": "stdout",
     "text": [
      "(5, 4, 3)\n(2, 4, 3)\n(7, 4, 3)\n"
     ]
    }
   ],
   "source": [
    "# 3D tensors vstack\n",
    "A = np.random.rand(5,4,3); # (height, width, colors) in images\n",
    "print(A.shape);\n",
    "\n",
    "B= np.random.rand(2,4,3);\n",
    "print(B.shape)\n",
    "\n",
    "C = np.vstack((A, B)); #depth and width are matching, therefore vstack is possible, refer image 5\n",
    "print(C.shape)"
   ]
  },
  {
   "cell_type": "code",
   "execution_count": null,
   "metadata": {},
   "outputs": [],
   "source": [
    "Exercise: Achieve the above transforms using numpy.concatenate https://numpy.org/doc/1.18/reference/generated/numpy.concatenate.html#numpy.concatenate"
   ]
  },
  {
   "cell_type": "code",
   "execution_count": 90,
   "metadata": {},
   "outputs": [
    {
     "output_type": "stream",
     "name": "stdout",
     "text": [
      "(5, 4, 3)\n(5, 3, 3)\n[0.03086933 0.75947417 0.45396616 0.9701289  0.76813515 0.40052889\n 0.34182815 0.51209161 0.16440545 0.85158716 0.90109619 0.55349604\n 0.65097347 0.84305469 0.6030511  0.31936889 0.966265   0.57772628\n 0.46330908 0.89725234 0.47749477 0.99753043 0.37885967 0.93053309\n 0.86471898 0.68991913 0.69496302 0.47880651 0.14524946 0.83662523\n 0.24462393 0.04311565 0.05262974 0.84950915 0.46014453 0.53065219\n 0.381649   0.98693958 0.50597972 0.16246539 0.44355138 0.8973543\n 0.66562026 0.34018619 0.16875206 0.51195248 0.91305786 0.26906043\n 0.4893187  0.43376475 0.31498331 0.73648794 0.08602304 0.33188912\n 0.22025667 0.21600298 0.40543897 0.3847881  0.23580092 0.68597267\n 0.70266619 0.43522303 0.87866753 0.33251454 0.2700607  0.02341117\n 0.78555061 0.57563542 0.56700124 0.74317694 0.44847849 0.67677867\n 0.08753522 0.03843501 0.42849965 0.05780251 0.343295   0.26292377\n 0.14762364 0.79759191 0.25711759 0.60143067 0.98649625 0.99810827\n 0.25557118 0.58635433 0.83295376 0.66436487 0.34307988 0.53196544\n 0.55007252 0.48098693 0.37497871 0.26474165 0.66087956 0.29051957\n 0.0760102  0.84130927 0.03005055 0.44508192 0.6801566  0.03387586\n 0.90702376 0.95425171 0.5235677 ]\n"
     ]
    }
   ],
   "source": [
    "A = np.random.rand(5,4,3); # (height, width, colors(R,G,B)/depth) in images is a good way to think of this, refer image 1\n",
    "print(A.shape);\n",
    "\n",
    "B= np.random.rand(5,3,3);\n",
    "print(B.shape)\n",
    "\n",
    "#convert to vector\n",
    "C = np.concatenate((A,B), axis=None)\n",
    "print(C)"
   ]
  },
  {
   "cell_type": "code",
   "execution_count": 91,
   "metadata": {},
   "outputs": [
    {
     "output_type": "stream",
     "name": "stdout",
     "text": [
      "[[[0.03086933 0.75947417 0.45396616]\n  [0.9701289  0.76813515 0.40052889]\n  [0.34182815 0.51209161 0.16440545]\n  [0.85158716 0.90109619 0.55349604]\n  [0.70266619 0.43522303 0.87866753]\n  [0.33251454 0.2700607  0.02341117]\n  [0.78555061 0.57563542 0.56700124]]\n\n [[0.65097347 0.84305469 0.6030511 ]\n  [0.31936889 0.966265   0.57772628]\n  [0.46330908 0.89725234 0.47749477]\n  [0.99753043 0.37885967 0.93053309]\n  [0.74317694 0.44847849 0.67677867]\n  [0.08753522 0.03843501 0.42849965]\n  [0.05780251 0.343295   0.26292377]]\n\n [[0.86471898 0.68991913 0.69496302]\n  [0.47880651 0.14524946 0.83662523]\n  [0.24462393 0.04311565 0.05262974]\n  [0.84950915 0.46014453 0.53065219]\n  [0.14762364 0.79759191 0.25711759]\n  [0.60143067 0.98649625 0.99810827]\n  [0.25557118 0.58635433 0.83295376]]\n\n [[0.381649   0.98693958 0.50597972]\n  [0.16246539 0.44355138 0.8973543 ]\n  [0.66562026 0.34018619 0.16875206]\n  [0.51195248 0.91305786 0.26906043]\n  [0.66436487 0.34307988 0.53196544]\n  [0.55007252 0.48098693 0.37497871]\n  [0.26474165 0.66087956 0.29051957]]\n\n [[0.4893187  0.43376475 0.31498331]\n  [0.73648794 0.08602304 0.33188912]\n  [0.22025667 0.21600298 0.40543897]\n  [0.3847881  0.23580092 0.68597267]\n  [0.0760102  0.84130927 0.03005055]\n  [0.44508192 0.6801566  0.03387586]\n  [0.90702376 0.95425171 0.5235677 ]]]\n"
     ]
    }
   ],
   "source": [
    "#stack horizontally\n",
    "C = np.concatenate((A,B), axis=1)\n",
    "print(C)"
   ]
  },
  {
   "cell_type": "code",
   "execution_count": 94,
   "metadata": {},
   "outputs": [
    {
     "output_type": "stream",
     "name": "stdout",
     "text": [
      "(5, 4, 3)\n(4, 4, 3)\n[[[0.71459451 0.87754415 0.97338889]\n  [0.08842775 0.07895072 0.38238847]\n  [0.84714046 0.7185903  0.18293726]\n  [0.33404923 0.05241012 0.89227501]]\n\n [[0.08625666 0.90755657 0.20727117]\n  [0.05527943 0.25372786 0.33801459]\n  [0.21306502 0.47450876 0.61521604]\n  [0.50268833 0.95479588 0.83580836]]\n\n [[0.45584634 0.06306744 0.32068911]\n  [0.75943075 0.28534396 0.97724454]\n  [0.06460351 0.35027087 0.94684453]\n  [0.64669482 0.32782436 0.61890216]]\n\n [[0.59972609 0.82807625 0.17426325]\n  [0.80827721 0.01358409 0.64266184]\n  [0.30139185 0.99623024 0.43187709]\n  [0.48603034 0.18108785 0.96861555]]\n\n [[0.98802602 0.87232364 0.34034161]\n  [0.18313565 0.89592765 0.71666736]\n  [0.97448087 0.82407621 0.16907821]\n  [0.91122973 0.32347272 0.73562416]]\n\n [[0.65499566 0.63296397 0.16475784]\n  [0.43786071 0.99022164 0.56484196]\n  [0.65579696 0.07632098 0.34159608]\n  [0.38588065 0.63980393 0.5580249 ]]\n\n [[0.05182843 0.89531812 0.72789387]\n  [0.09489683 0.67614867 0.81407025]\n  [0.56703642 0.50424063 0.09950563]\n  [0.24683581 0.81157404 0.7128977 ]]\n\n [[0.12974853 0.3569343  0.57997392]\n  [0.82022915 0.58979571 0.46000768]\n  [0.72914933 0.89483741 0.03328633]\n  [0.32491561 0.11696484 0.16102527]]\n\n [[0.08962403 0.44284755 0.48729555]\n  [0.98080431 0.93627296 0.21685879]\n  [0.96311724 0.781873   0.14566704]\n  [0.09436399 0.16942978 0.4401787 ]]]\n"
     ]
    }
   ],
   "source": [
    "# vertical stack\n",
    "A = np.random.rand(5,4,3);\n",
    "print(A.shape);\n",
    "\n",
    "B= np.random.rand(4,4,3);\n",
    "print(B.shape)\n",
    "\n",
    "C = np.concatenate((A,B), axis=0)\n",
    "print(C)"
   ]
  },
  {
   "cell_type": "code",
   "execution_count": null,
   "metadata": {},
   "outputs": [],
   "source": []
  }
 ]
}