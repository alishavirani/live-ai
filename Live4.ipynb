{
 "metadata": {
  "language_info": {
   "codemirror_mode": {
    "name": "ipython",
    "version": 3
   },
   "file_extension": ".py",
   "mimetype": "text/x-python",
   "name": "python",
   "nbconvert_exporter": "python",
   "pygments_lexer": "ipython3",
   "version": "3.9.1-final"
  },
  "orig_nbformat": 2,
  "kernelspec": {
   "name": "python3",
   "display_name": "Python 3.9.1 64-bit",
   "metadata": {
    "interpreter": {
     "hash": "e670e257c3dff639f6b8c5fb0b51b4fc19cfdd43db06b8875e07928619fd68d0"
    }
   }
  }
 },
 "nbformat": 4,
 "nbformat_minor": 2,
 "cells": [
  {
   "cell_type": "code",
   "execution_count": null,
   "metadata": {},
   "outputs": [],
   "source": [
    "## LIVE 4: Strings and Regex \n",
    " - Focus: Basics of strings and regex in Python + Simple problem solving. \n",
    " - Prereq: Basic knowledge of Strings and Regex in Python + previous code-sessions.\n",
    " - Reference for basics: \n",
    "     - https://docs.python.org/3/howto/regex.html\n",
    "     - https://docs.python.org/3/library/re.html\n",
    "     - https://www.w3schools.com/python/python_strings.asp\n",
    "     - https://www.geeksforgeeks.org/python-strings/\n",
    "     "
   ]
  },
  {
   "cell_type": "code",
   "execution_count": null,
   "metadata": {},
   "outputs": [],
   "source": [
    "## Quick recap of Regex in Python\n",
    "- Go through multiple examples to understand regex better\n",
    "- Key life-skill: learn from resources on the internet.\n",
    "- https://docs.python.org/3/howto/regex.html\n",
    "- https://www.w3schools.com/python/python_regex.asp\n",
    "- https://www.tutorialspoint.com/python/python_reg_expressions.htm"
   ]
  },
  {
   "cell_type": "code",
   "execution_count": null,
   "metadata": {},
   "outputs": [],
   "source": [
    "## Problem-1: Mask personal information in email and phone numbers\n",
    "\n",
    "- Email: xxxxxxxxx@aaaa.zzzz\n",
    "    - Masked:x#####x@aaaa.zzzz [FIVE # between first and last char of the name]  \n",
    "    \n",
    "    <br>\n",
    "    \n",
    "- Phone:  digits 0-9 or any of the characters from  { '-', '(', ')', ' '} \n",
    "    - Example: 1(234)567-890   --> ###-###-7890\""
   ]
  },
  {
   "cell_type": "code",
   "execution_count": 1,
   "metadata": {},
   "outputs": [
    {
     "output_type": "execute_result",
     "data": {
      "text/html": "<img src=\"https://cdn.programiz.com/sites/tutorial2program/files/python-format-positional-argument.jpg\"/>",
      "text/plain": [
       "<IPython.core.display.Image object>"
      ]
     },
     "metadata": {},
     "execution_count": 1
    }
   ],
   "source": [
    "from IPython.display import Image\n",
    "Image(url= \"https://cdn.programiz.com/sites/tutorial2program/files/python-format-positional-argument.jpg\")"
   ]
  },
  {
   "cell_type": "code",
   "execution_count": 2,
   "metadata": {},
   "outputs": [
    {
     "output_type": "stream",
     "name": "stdout",
     "text": [
      "a#####d@efgh.com\n"
     ]
    }
   ],
   "source": [
    "# boundary case: check if email or not\n",
    "s = \"abcd@efgh.com\";\n",
    "\n",
    "def maskEmail(s):\n",
    "    if '@' in s: \n",
    "        name, domain = s.split('@')\n",
    "        return (\"{0}#####{1}@{2}\".format(name[0], name[-1], domain));\n",
    "\n",
    "print(maskEmail(s))"
   ]
  },
  {
   "cell_type": "code",
   "execution_count": 3,
   "metadata": {},
   "outputs": [
    {
     "output_type": "stream",
     "name": "stdout",
     "text": [
      "a#####a@bcdef.com\n"
     ]
    }
   ],
   "source": [
    "# BOUDNARY CASE: a@bcdef.com\n",
    "print(maskEmail(\"a@bcdef.com\"))"
   ]
  },
  {
   "cell_type": "code",
   "execution_count": 4,
   "metadata": {},
   "outputs": [
    {
     "output_type": "stream",
     "name": "stdout",
     "text": [
      "None\n"
     ]
    }
   ],
   "source": [
    "# BOUDNARY CASE: abcd.com\n",
    "print(maskEmail(\"abcd.com\"))"
   ]
  },
  {
   "cell_type": "code",
   "execution_count": 5,
   "metadata": {},
   "outputs": [
    {
     "output_type": "stream",
     "name": "stdout",
     "text": [
      "a#####d@cdef\n"
     ]
    }
   ],
   "source": [
    "# BOUDNARY CASE: abcd@cdef\n",
    "print(maskEmail(\"abcd@cdef\"))"
   ]
  },
  {
   "cell_type": "code",
   "execution_count": 6,
   "metadata": {},
   "outputs": [
    {
     "output_type": "stream",
     "name": "stdout",
     "text": [
      "None\nFalse\n"
     ]
    }
   ],
   "source": [
    "import re\n",
    "def isValidEmail(s):\n",
    "    #refer:https://www.w3schools.com/python/python_regex.asp for regex syntax\n",
    "    #https://docs.python.org/2/library/re.html\n",
    "    \n",
    "\n",
    "# ^ - signifies start of the string\n",
    "# \\w - any unicode chars\n",
    "# + - one or more chars\n",
    "# [] - matches any of the chars inside the []\n",
    "# \\. - single char\n",
    "# ? - matches 0 or 1 rep\n",
    "\n",
    "    res = re.search('^\\w+([\\.-]?\\w+)*@\\w+([\\.-]?\\w+)*(\\.\\w{2,3})+$', s, re.IGNORECASE)   #https://www.geeksforgeeks.org/check-if-email-address-valid-or-not-in-python/   \n",
    "    print(res)\n",
    "    \n",
    "    if(res):\n",
    "        return True;\n",
    "    else:\n",
    "        return False;\n",
    "\n",
    "print(isValidEmail(\"abcd@cdef\"))"
   ]
  },
  {
   "cell_type": "code",
   "execution_count": 7,
   "metadata": {},
   "outputs": [
    {
     "output_type": "stream",
     "name": "stdout",
     "text": [
      "None\nFalse\n"
     ]
    }
   ],
   "source": [
    "print(isValidEmail(\"abcd@cdef.c\"))"
   ]
  },
  {
   "cell_type": "code",
   "execution_count": 8,
   "metadata": {},
   "outputs": [
    {
     "output_type": "stream",
     "name": "stdout",
     "text": [
      "<re.Match object; span=(0, 10), match='a@cdef.com'>\nTrue\n"
     ]
    }
   ],
   "source": [
    "print(isValidEmail(\"a@cdef.com\"))"
   ]
  },
  {
   "cell_type": "code",
   "execution_count": 9,
   "metadata": {},
   "outputs": [
    {
     "output_type": "stream",
     "name": "stdout",
     "text": [
      "<re.Match object; span=(0, 15), match='abcd@iisc.ac.in'>\nTrue\n"
     ]
    }
   ],
   "source": [
    "print(isValidEmail(\"abcd@iisc.ac.in\"))"
   ]
  },
  {
   "cell_type": "code",
   "execution_count": null,
   "metadata": {},
   "outputs": [],
   "source": [
    "#always use verbose methodology\n",
    "regex = '^\\w+([\\.-]?\\w+)*@\\w+([\\.-]?\\w+)*(\\.\\w{2,3})+$' # highly non-readbale code\n",
    "\n",
    "#emailid : name@domain\n",
    "\n",
    "#https://docs.python.org/2/library/re.html\n",
    "regex_verbose = re.compile(r\"\"\"                  # VERY readable and easy to understand. Software maintanability.\n",
    "            ^\\w+([\\.-]?\\w+)*              # start, \\w+, checks for valid name\n",
    "            @                             # single @ sign \n",
    "            \\w+([\\.-]?\\w+)*               # Domain name \n",
    "            (\\.\\w{2,3})+$                 # .com, .ac.in,    multiple dots\n",
    "             \"\"\",re.VERBOSE | re.IGNORECASE)          #verbose means readable format\n",
    "\n",
    "\n",
    "res = regex_verbose.match(\"abcd@iisc.ac.in\");\n",
    "\n",
    "print(res.string)\n",
    "print(res)"
   ]
  },
  {
   "cell_type": "code",
   "execution_count": 10,
   "metadata": {},
   "outputs": [
    {
     "output_type": "stream",
     "name": "stdout",
     "text": [
      "1234567890\n###-###-7890\n"
     ]
    }
   ],
   "source": [
    "# PHONE NUMBER MASKING\n",
    "#Example: 1(234)567-890 --> ###-###-7890\"\n",
    "\n",
    "\n",
    "ph = \"1(234)567-890\" \n",
    "\n",
    "#replace non numeric char with empty string\n",
    "digits = re.sub(\"\\D\", \"\", ph)  # \\D=>non-decimal, re.substitute, https://docs.python.org/3/library/re.html get rid of non-numeric chars\n",
    "\n",
    "print(digits)\n",
    "    \n",
    "masked =  \"###-###-{}\".format(digits[-4:])\n",
    "print(masked)"
   ]
  },
  {
   "cell_type": "code",
   "execution_count": 12,
   "metadata": {},
   "outputs": [
    {
     "output_type": "stream",
     "name": "stdout",
     "text": [
      "###-###-7890\nNone\n"
     ]
    }
   ],
   "source": [
    "def maskPhoneNum(ph):\n",
    "    digits = re.sub(\"\\D\", \"\", ph)  # \\D=>non-decimal, re.substitute, https://docs.python.org/3/library/re.html \n",
    "    if len(digits) != 10: # BOUNDARY CASE\n",
    "        return None;\n",
    "    else:\n",
    "        masked =  \"###-###-{}\".format(digits[-4:])\n",
    "        return masked\n",
    "\n",
    "print(maskPhoneNum(\"1(234)567-890\"))\n",
    "print(maskPhoneNum(\"1(234)567\"))"
   ]
  },
  {
   "cell_type": "code",
   "execution_count": null,
   "metadata": {},
   "outputs": [],
   "source": [
    "#### Exercise:  12 digit phone numbers with 2 digits of ISD  code strtaing with + \n",
    "- e.g: +86-(99)12345678    ---->  (+86)-###-###-5678"
   ]
  },
  {
   "cell_type": "code",
   "execution_count": 23,
   "metadata": {},
   "outputs": [
    {
     "output_type": "stream",
     "name": "stdout",
     "text": [
      "+86-###-###-5678\n+86-###-###-5678\n"
     ]
    }
   ],
   "source": [
    "def maskPhoneNum(ph):\n",
    "    digits = ph[3:]\n",
    "    \n",
    "    digits = re.sub(\"\\D\", \"\", digits)  # \\D=>non-decimal, re.substitute, https://docs.python.org/3/library/re.html     \n",
    "\n",
    "    if len(digits) != 10: # BOUNDARY CASE\n",
    "        return None;\n",
    "    else:\n",
    "        masked =  \"{}-###-###-{}\".format(ph[:3],digits[-4:])\n",
    "        return masked\n",
    "\n",
    "print(maskPhoneNum(\"+86-(99)12345678\"))\n",
    "print(maskPhoneNum(\"+86(99)12345678\"))"
   ]
  }
 ]
}