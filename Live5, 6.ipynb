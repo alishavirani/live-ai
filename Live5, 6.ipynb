{
 "metadata": {
  "language_info": {
   "codemirror_mode": {
    "name": "ipython",
    "version": 3
   },
   "file_extension": ".py",
   "mimetype": "text/x-python",
   "name": "python",
   "nbconvert_exporter": "python",
   "pygments_lexer": "ipython3",
   "version": "3.9.2-final"
  },
  "orig_nbformat": 2,
  "kernelspec": {
   "name": "python3",
   "display_name": "Python 3.9.2 64-bit",
   "metadata": {
    "interpreter": {
     "hash": "e670e257c3dff639f6b8c5fb0b51b4fc19cfdd43db06b8875e07928619fd68d0"
    }
   }
  }
 },
 "nbformat": 4,
 "nbformat_minor": 2,
 "cells": [
  {
   "cell_type": "code",
   "execution_count": null,
   "metadata": {},
   "outputs": [],
   "source": [
    "## LIVE 5: Strings and Regex-II\n",
    " - Focus: Basics of strings and regex in Python +  interesting problem solving. \n",
    " - Prereq: Basic knowledge of Strings and Regex in Python + previous code-sessions.\n",
    " - Reference for basics: \n",
    "     - https://docs.python.org/3/howto/regex.html\n",
    "     - https://docs.python.org/3/library/re.html\n",
    "     - https://www.w3schools.com/python/python_strings.asp\n",
    "     - https://www.geeksforgeeks.org/python-strings/\n",
    "     \n",
    "     \n",
    "Slide-show: https://medium.com/@mjspeck/presenting-code-using-jupyter-notebook-slides-a8a3c3b59d67"
   ]
  },
  {
   "cell_type": "code",
   "execution_count": null,
   "metadata": {},
   "outputs": [],
   "source": [
    "## Problem 2: Extract data from a PDF invoice\n",
    "- Given a PDF [https://slicedinvoices.com/pdf/wordpress-pdf-invoice-plugin-sample.pdf], extract predefined key fields from this PDF\n",
    "- Assume the format is fixed."
   ]
  },
  {
   "cell_type": "code",
   "execution_count": null,
   "metadata": {},
   "outputs": [],
   "source": [
    "pip3 install pyPDF4"
   ]
  },
  {
   "cell_type": "code",
   "execution_count": 7,
   "metadata": {},
   "outputs": [
    {
     "output_type": "stream",
     "name": "stdout",
     "text": [
      "Invoice\nPayment is due within 30 days from date of invoice. Late payment is subject to fees of 5% per month.\nThanks for choosing \nDEMO - Sliced Invoices\n | \nadmin@slicedinvoices.com\nPage 1/1\nFrom:\nDEMO - Sliced Invoices\nSuite 5A-1204\n123 Somewhere Street\nYour City AZ 12345\nadmin@slicedinvoices.com\nInvoice Number\nINV-3337\nOrder Number\n12345\nInvoice Date\nJanuary 25, 2016\nDue Date\nJanuary 31, 2016\nTotal Due\n$93.50\nTo:\nTest Business\n123 Somewhere St\nMelbourne, VIC 3000\ntest@test.com\nHrs/Qty\nService\nRate/Price\nAdjust\nSub Total\n1.00\nWeb Design\nThis is a sample description...\n$85.00\n0.00%\n$85.00\nSub Total\n$85.00\nTax\n$8.50\nTotal\n$93.50\nANZ Bank\nACC # 1234 1234\nBSB # 4321 432\nPaid\n\n"
     ]
    }
   ],
   "source": [
    "# Google \"pyPDF extract text\" ---> https://www.soudegesu.com/en/post/python/extract-text-from-pdf-with-pypdf2/\n",
    "import PyPDF4\n",
    "import re\n",
    "\n",
    "FILE_PATH = './invoice.pdf'\n",
    "\n",
    "with open(FILE_PATH, mode='rb') as f: #opening file to read\n",
    "    reader = PyPDF4.PdfFileReader(f)\n",
    "    page = reader.getPage(0)\n",
    "    txt = page.extractText()\n",
    "    print(txt)"
   ]
  },
  {
   "cell_type": "code",
   "execution_count": 9,
   "metadata": {},
   "outputs": [
    {
     "output_type": "stream",
     "name": "stdout",
     "text": [
      "['$93.50', '$85.00', '$85.00', '$85.00', '$8.50', '$93.50']\n"
     ]
    }
   ],
   "source": [
    "# extract amounts\n",
    "m = re.findall(\"\\$[0-9]*\\.[0-9]*\", txt)\n",
    "print(m)"
   ]
  },
  {
   "cell_type": "code",
   "execution_count": 14,
   "metadata": {},
   "outputs": [
    {
     "output_type": "stream",
     "name": "stdout",
     "text": [
      "['Total Due\\n$93.50']\n['$93.50']\n"
     ]
    }
   ],
   "source": [
    "# Extract Total Due:\n",
    "m = re.findall(\"Total Due\\n\\$[0-9]*\\.[0-9]*\", txt)\n",
    "print(m)\n",
    "\n",
    "print(re.findall(\"\\$[0-9]*\\.[0-9]*\",m[0]))"
   ]
  },
  {
   "cell_type": "code",
   "execution_count": 15,
   "metadata": {},
   "outputs": [
    {
     "output_type": "stream",
     "name": "stdout",
     "text": [
      "['Invoice', 'Payment is due within 30 days from date of invoice. Late payment is subject to fees of 5% per month.', 'Thanks for choosing ', 'DEMO - Sliced Invoices', ' | ', 'admin@slicedinvoices.com', 'Page 1/1', 'From:', 'DEMO - Sliced Invoices', 'Suite 5A-1204', '123 Somewhere Street', 'Your City AZ 12345', 'admin@slicedinvoices.com', 'Invoice Number', 'INV-3337', 'Order Number', '12345', 'Invoice Date', 'January 25, 2016', 'Due Date', 'January 31, 2016', 'Total Due', '$93.50', 'To:', 'Test Business', '123 Somewhere St', 'Melbourne, VIC 3000', 'test@test.com', 'Hrs/Qty', 'Service', 'Rate/Price', 'Adjust', 'Sub Total', '1.00', 'Web Design', 'This is a sample description...', '$85.00', '0.00%', '$85.00', 'Sub Total', '$85.00', 'Tax', '$8.50', 'Total', '$93.50', 'ANZ Bank', 'ACC # 1234 1234', 'BSB # 4321 432', 'Paid', '']\n\n\n Invoice date:January 25, 2016\n"
     ]
    }
   ],
   "source": [
    "# Extract dates in this doc gieven a fixed format using line number\n",
    "res = re.split(\"\\n\", txt);\n",
    "print(res)\n",
    "\n",
    "print(\"\\n\\n Invoice date:\" +res[18])"
   ]
  },
  {
   "cell_type": "code",
   "execution_count": 16,
   "metadata": {},
   "outputs": [
    {
     "output_type": "stream",
     "name": "stdout",
     "text": [
      "['INV-3337']\n"
     ]
    }
   ],
   "source": [
    "# extract invoice number\n",
    "\n",
    "m = re.findall(\"INV-[0-9]*\", txt)\n",
    "print(m)"
   ]
  },
  {
   "cell_type": "code",
   "execution_count": null,
   "metadata": {},
   "outputs": [],
   "source": []
  },
  {
   "cell_type": "code",
   "execution_count": 26,
   "metadata": {},
   "outputs": [
    {
     "output_type": "stream",
     "name": "stdout",
     "text": [
      "Invoice\nPayment is due within 30 days from date of invoice. Late payment is subject to fees of 5% per month.\nThanks for choosing \nDEMO - Sliced Invoices\n | \nadmin@slicedinvoices.com\nPage 1/1\nFrom:\nDEMO - Sliced Invoices\nSuite 5A-1204\n123 Somewhere Street\nYour City AZ 12345\nadmin@slicedinvoices.com\nInvoice Number\nINV-3337\nOrder Number\n12345\nInvoice Date\nJanuary 25, 2016\nDue Date\nJanuary 31, 2016\nTotal Due\n$93.50\nTo:\nTest Business\n123 Somewhere St\nMelbourne, VIC 3000\ntest@test.com\nHrs/Qty\nService\nRate/Price\nAdjust\nSub Total\n1.00\nWeb Design\nThis is a sample description...\n$85.00\n0.00%\n$85.00\nSub Total\n$85.00\nTax\n$8.50\nTotal\n$93.50\nANZ Bank\nACC # 1234 1234\nBSB # 4321 432\nPaid\n\n"
     ]
    }
   ],
   "source": [
    "print(txt)"
   ]
  },
  {
   "cell_type": "code",
   "execution_count": null,
   "metadata": {},
   "outputs": [],
   "source": [
    "#### NOTE: Web-scarping\n",
    "- We can use \"re\" for extracting data from web-scarping. \n",
    "- But, it is better to sue ebautiful-soup like libraries as they use the structure of HTML \n",
    "- https://www.crummy.com/software/BeautifulSoup/bs4/doc/\n",
    "- We have done an earlier live session on web-scraping: https://youtu.be/EYzTeb_VXoI"
   ]
  },
  {
   "cell_type": "code",
   "execution_count": 69,
   "metadata": {},
   "outputs": [
    {
     "output_type": "stream",
     "name": "stdout",
     "text": [
      "['admin@slicedinvoices.com', 'admin@slicedinvoices.com', 'test@test.com']\n"
     ]
    }
   ],
   "source": [
    "#### Assignment: Extract email-addresses from the PDF\n",
    "\n",
    "#regex pattern: \"[a-zA-Z0-9+_.-]+@[a-zA-Z0-9.-]+\\.[a-z]+\"\n",
    "regex_verbose = re.compile(r\"\"\"                  # VERY readable and easy to understand. Software maintanability.\n",
    "            [a-zA-Z0-9+_.-]+              # start, \\w+, checks for valid name\n",
    "            @                             # single @ sign \n",
    "            [a-zA-Z0-9.-]+               # Domain name \n",
    "            \\.[a-z]+                 # .com, .ac.in,    multiple dots\n",
    "             \"\"\",re.VERBOSE | re.IGNORECASE)\n",
    "             \n",
    "m = re.findall(regex_verbose, txt)\n",
    "print(m)       "
   ]
  },
  {
   "cell_type": "code",
   "execution_count": null,
   "metadata": {},
   "outputs": [],
   "source": [
    "## Problem 3: Given a string, Check if a number is a valid integer or float\n",
    "- TRUE: 12, 12.5, 1e10, 1e+6, 1e-10, -2.3, -2.4e-4 \n",
    "- FALSE: abc, -2.4e4.5, 1b2.4\n",
    "- TRICKY: Handle all the cases carefully.\n",
    "- Easy problem to code. But, hard not to miss cases.\n",
    "- Popular interview question to understand handling boundary cases."
   ]
  },
  {
   "cell_type": "code",
   "execution_count": 71,
   "metadata": {},
   "outputs": [],
   "source": [
    "# Source: https://www.geeksforgeeks.org/check-given-string-valid-number-integer-floating-point/\n",
    "# Sometimes, reading other's code is a good way to learn.\n",
    "# Explanatory comments are very important in your code. \n",
    "# We added more comments and clearly listed cases handled for better interpretability.\n",
    "\n",
    "\n",
    "# This code elimiates each of the FALSE cases and finally limits to only TRUE cases, returns False if not float\n",
    "# is a valid number \n",
    "def valid_number(str): \n",
    "    i = 0\n",
    "    j = len(str) - 1\n",
    "  \n",
    "    # Handling whitespaces: \"   123   \"\n",
    "    while i<len(str) and str[i] == ' ': # remove  whitespaces int he beginning\n",
    "        i += 1\n",
    "    \n",
    "    while j >= 0 and str[j] == ' ': # remove whitespaces at the end\n",
    "        j -= 1\n",
    "  \n",
    "    if i > j: # if only whitespaces in the given string\n",
    "        return False\n",
    "    \n",
    "    #str[i...j] is a whitespace removed (from beginning and end) string \n",
    "  \n",
    "    # if string is of length 1 and the only \n",
    "    # character is not a digit \n",
    "    if (i == j and not(str[i] >= '0' and \n",
    "                       str[i] <= '9')): \n",
    "        return False\n",
    "  \n",
    "    \n",
    "    # If the 1st char is not '+', '-', '.' or digit \n",
    "    if (str[i] != '.' and str[i] != '+' and \n",
    "        str[i] != '-' and not(str[i] >= '0' and \n",
    "        str[i] <= '9')): \n",
    "        return False\n",
    "  \n",
    "    # To check if a '.' or 'e' is found in given \n",
    "    # string.We use this flag to make sure that \n",
    "    # either of them appear only once. \n",
    "    flagDotOrE = False\n",
    "  \n",
    "    for i in range(j + 1): \n",
    "          \n",
    "        # If any of the char does not belong to \n",
    "        # {digit, +, -,., e} \n",
    "        if (str[i] != 'e' and str[i] != '.' and \n",
    "            str[i] != '+' and str[i] != '-' and not\n",
    "           (str[i] >= '0' and str[i] <= '9')): \n",
    "            return False # \"a123\" good to write cases eliminated\n",
    "  \n",
    "        if str[i] == '.': \n",
    "            \n",
    "            # check if the char e has already \n",
    "            # occured before '.' If yes, return 0 \n",
    "            if flagDotOrE: \n",
    "                return False #\"1e2.3\", \"1.2.3\"\n",
    "            \n",
    "            if i + 1 > len(str): \n",
    "                return False # \"123.\"\n",
    "            \n",
    "            if (not(str[i + 1] >= '0' and \n",
    "                    str[i + 1] <= '9')): \n",
    "                return False # \"123a\"\n",
    "\n",
    "            flagDotOrE = True\n",
    "            \n",
    "        elif str[i] == 'e': \n",
    "              \n",
    "            # set flagDotOrE = 1 when e is encountered. \n",
    "            flagDotOrE = True\n",
    "  \n",
    "            # if there is no digit before e \n",
    "            if (not(str[i - 1] >= '0' and \n",
    "                    str[i - 1] <= '9')): \n",
    "                return False # \"e123\"\n",
    "                  \n",
    "            # if e is the last character \n",
    "            if i + 1 > len(str): \n",
    "                return False # \"123e\"\n",
    "                  \n",
    "            # if e is not followed by \n",
    "            # '+', '-' or a digit \n",
    "            if (str[i + 1] != '+' and str[i + 1] != '-' and \n",
    "               (str[i + 1] >= '0' and str[i] <= '9')): \n",
    "                return False # \"1e.\" \"1ea\"\n",
    "                  \n",
    "    # If the string skips all the \n",
    "    # above cases, it must be a numeric string \n",
    "    return True"
   ]
  },
  {
   "cell_type": "code",
   "execution_count": 72,
   "metadata": {},
   "outputs": [
    {
     "output_type": "stream",
     "name": "stdout",
     "text": [
      "True\n"
     ]
    }
   ],
   "source": [
    "print(valid_number(\"1e5\"))"
   ]
  },
  {
   "cell_type": "code",
   "execution_count": 73,
   "metadata": {},
   "outputs": [
    {
     "output_type": "stream",
     "name": "stdout",
     "text": [
      "False\n"
     ]
    }
   ],
   "source": [
    "print(valid_number(\"1e1.5\"))"
   ]
  },
  {
   "cell_type": "code",
   "execution_count": 74,
   "metadata": {},
   "outputs": [
    {
     "output_type": "stream",
     "name": "stdout",
     "text": [
      "True\n"
     ]
    }
   ],
   "source": [
    "print(valid_number(\"1e+15\"))"
   ]
  },
  {
   "cell_type": "code",
   "execution_count": 75,
   "metadata": {},
   "outputs": [
    {
     "output_type": "stream",
     "name": "stdout",
     "text": [
      "True\n"
     ]
    }
   ],
   "source": [
    "print(valid_number(\"-1.2e-15\"))"
   ]
  },
  {
   "cell_type": "code",
   "execution_count": null,
   "metadata": {},
   "outputs": [],
   "source": [
    "## Problem 4:  Regex matching problem\n",
    "- \"?\" matches a single character\n",
    "- \"*\" matches zero or more charcters\n",
    "- Given a pattern(p) and a string(s), does p match s?\n",
    "- examples: \n",
    "    - TRUE: (\"\\*\", \"ab\"), (\"?a\" ,\"ba\"), (\"?a\" ,\"aa\"), (\"a\\*\" ,\"a\")\n",
    "    - FALSE: (\"\\*a\", \"ab\"), (\"?a\" ,\"baa\"), (\"?a\" ,\"a\"), (\"a\\*\" ,\"ba\")\n",
    "\n",
    "- Very popular interview question at product-based companies for SDEs.\n",
    "- Small variations of this are often used in interviews\n",
    "\n",
    "use recursion to solve this, where p is the pattern string of size m and the string(input) is a string of size n\n",
    "create a function isMatch(pattern, size)\n",
    "refer Image 1"
   ]
  },
  {
   "cell_type": "code",
   "execution_count": 77,
   "metadata": {},
   "outputs": [],
   "source": [
    "# Handle all cases of recursion thoroughly.\n",
    "\n",
    "def isMatch(p,s):\n",
    "    \n",
    "    print(p,s) # print statemnt for debugging\n",
    "    \n",
    "    # boundary cases of recursion\n",
    "    if p == s:\n",
    "        return True\n",
    "    \n",
    "    if p == \"*\":\n",
    "        return True\n",
    "    \n",
    "    if p == \"\" or s == \"\":\n",
    "        return False\n",
    "    \n",
    "    # recursion case-1\n",
    "    if p[0] == s[0] or p[0] == '?': #match the 1st char, if 1st char is same, then use recursion for the rest, if 1st char is ?, it means there is a match bcoz we know ?=s[0] and then proceed with recusrion for the rest of the pattern and string\n",
    "        return isMatch(p[1:], s[1:])\n",
    "    \n",
    "    # recursion-case-2\n",
    "    # * can match 0 or more chars\n",
    "    # 2 cases\n",
    "    # case1: say * matched with its same index char, this does not mean that * will not match the rest of the chars, in this case we will keep the p as it is and match s from the next char onwards (condition after or), refer Image 2\n",
    "    #  case 2: * matches with 0 chars, ie there is no char match with with s, therefore s will stay the same and p will move to the next char\n",
    "    # refer image 3\n",
    "    if p[0] == '*':\n",
    "        return ( isMatch( p[1:], s) or isMatch( p, s[1:]))\n",
    "    \n",
    "    # last case: if p[0] pattern does not match with the string [0] \n",
    "    #should always be the last case\n",
    "    if  p[0] != s[0]:\n",
    "        return False;"
   ]
  },
  {
   "cell_type": "code",
   "execution_count": 78,
   "metadata": {},
   "outputs": [
    {
     "output_type": "stream",
     "name": "stdout",
     "text": [
      "* ab\nTrue\n"
     ]
    }
   ],
   "source": [
    "print(isMatch(\"*\",\"ab\"))"
   ]
  },
  {
   "cell_type": "code",
   "execution_count": 79,
   "metadata": {},
   "outputs": [
    {
     "output_type": "stream",
     "name": "stdout",
     "text": [
      "?a baa\na aa\n a\nFalse\n"
     ]
    }
   ],
   "source": [
    "print(isMatch(\"?a\" ,\"baa\"))"
   ]
  },
  {
   "cell_type": "code",
   "execution_count": 80,
   "metadata": {},
   "outputs": [
    {
     "output_type": "stream",
     "name": "stdout",
     "text": [
      "* ba\nTrue\n"
     ]
    }
   ],
   "source": [
    "print(isMatch(\"*\" ,\"ba\"))"
   ]
  },
  {
   "cell_type": "code",
   "execution_count": 81,
   "metadata": {},
   "outputs": [
    {
     "output_type": "stream",
     "name": "stdout",
     "text": [
      "a* ba\nFalse\n"
     ]
    }
   ],
   "source": [
    "print(isMatch(\"a*\" ,\"ba\"))"
   ]
  },
  {
   "cell_type": "code",
   "execution_count": 82,
   "metadata": {},
   "outputs": [
    {
     "output_type": "execute_result",
     "data": {
      "text/html": "<img src=\"https://i.imgur.com/dse47H3.png\"/>",
      "text/plain": [
       "<IPython.core.display.Image object>"
      ]
     },
     "metadata": {},
     "execution_count": 82
    }
   ],
   "source": [
    "#Assuming m is approx equal to n\n",
    "# Worst case Time Complexity: T(n) = T(n-1) + T(n-1) = 2* T(n-1) time required to solve both the problems in the OR condition\n",
    "\n",
    "# => T(n) = 0(2^n) [as shown below]\n",
    "\n",
    "# Considering only worst case time complexity, in this line return ( isMatch( p[1:], s) or isMatch( p, s[1:])), we are solving 2 sub problems, which each take O(n-1) time and the OR operation takes a constant time of O(1), rest are not so high in complexity\n",
    "\n",
    "#to calculate the time complexity, T(n) is the time taken to compute the given line above (or condition)\n",
    "#after computing complexities from n, (n-1) (n-1), (n-2) (n--2) ,....1, then we get the total as 2^0 + 2^1 + 2^2 + 2^3 + ... 2^n = 2^(n+1) -1 which approximates to O(2^n)\n",
    "\n",
    "# Below is the Recursion Tree\n",
    "from IPython.display import Image\n",
    "Image(url= \"https://i.imgur.com/dse47H3.png\")"
   ]
  },
  {
   "cell_type": "code",
   "execution_count": 83,
   "metadata": {},
   "outputs": [
    {
     "output_type": "execute_result",
     "data": {
      "text/html": "<img src=\"https://i.imgur.com/Rx6tN8a.png\"/>",
      "text/plain": [
       "<IPython.core.display.Image object>"
      ]
     },
     "metadata": {},
     "execution_count": 83
    }
   ],
   "source": [
    "# Can we do better?\n",
    "\n",
    "Image(url= \"https://i.imgur.com/Rx6tN8a.png\")"
   ]
  },
  {
   "cell_type": "code",
   "execution_count": null,
   "metadata": {},
   "outputs": [],
   "source": [
    "In the above problem, we are solving the same problem (2,n),(2,n) 2 times in both the OR conditions, this problem will occur n times\n",
    "Such a problem is called \"Overlapping sub-problems(OSP)\". This type of problem can be identified using the Recursion Tree shown above\n",
    "When we have Recursion and have OSP, we can solve this using Dynamic Programming (eg: Back Propogation)\n",
    "\n",
    "Dynamic Programming:\n",
    "If we are repeatedly solving the same problem, here (2,n),(2,n), we could instead compute the value once and store it in a table, so that we can look up the next time.\n",
    "This storing is called as Memoization (meaning: to remember things)\n",
    "In Dynamic Programming, we do not need to use recursion also now. Can solve iteratively using memoization"
   ]
  },
  {
   "cell_type": "code",
   "execution_count": 84,
   "metadata": {},
   "outputs": [
    {
     "output_type": "execute_result",
     "data": {
      "text/html": "<img src=\"https://i.imgur.com/k6ZTMcm.png\"/>",
      "text/plain": [
       "<IPython.core.display.Image object>"
      ]
     },
     "metadata": {},
     "execution_count": 84
    }
   ],
   "source": [
    "# Overlapping sub-problems: \n",
    "# Why not store solutions to already solved problems in a 2D array of [0...m-1][0...n-1]\n",
    "# Dynamic programming: Recursion + overlapping subproblems\n",
    "\n",
    "# We discussed this in our course when we learn back-propogation in DL.\n",
    "\n",
    "# DONOT need to use recursion also now. Can solve iteratively.\n",
    "\n",
    "Image(url= \"https://i.imgur.com/k6ZTMcm.png\")\n",
    "\n",
    "#assume pattern P has m chars\n",
    "#assume string S has n chars\n",
    "# d is the memoization table\n",
    "# m+1 rows, n+1 columns\n",
    "# table contains True/False values\n",
    "#look at the entry corresponding to the ith row, jth column d[i,j]\n",
    "# d[i,j] will store if pattern from 0 to i p[0....i] and string 0 to j s[0....j] both match using the isMatch() fn\n",
    "# we are looking for the final solution ie the last entry in the table which will tell that pattern p[0....m] has matched with the string s[0.....n] (complete match)"
   ]
  },
  {
   "cell_type": "code",
   "execution_count": null,
   "metadata": {},
   "outputs": [],
   "source": [
    "Live 6"
   ]
  },
  {
   "cell_type": "code",
   "execution_count": null,
   "metadata": {},
   "outputs": [],
   "source": [
    "We can also use dict instead of the above table to create such a table, it uses O(1) search time"
   ]
  },
  {
   "cell_type": "code",
   "execution_count": null,
   "metadata": {},
   "outputs": [],
   "source": [
    "DP can be solved using 2 ways:\n",
    "1. Top Down DP: uses recusrion and storage (DP using memoization based method), easy to understand, slightly less computationally efficient\n",
    "2. Bottom Up DP: uses iteration + tabulation (DP by Tabulation), harder to understand, computationally efficient"
   ]
  },
  {
   "cell_type": "code",
   "execution_count": 5,
   "metadata": {},
   "outputs": [],
   "source": [
    "# top-down DP using recursion and memoization (dp)\n",
    "\n",
    "#To solve the sub problems shown in the diag above, we know that we have pairs of pattern and string like (2,n),(2,n), here the 2nd parameter n always will be the same to solve this sub problem and the 1st parameter will be the pattern_start char and string_start char respectively - index of pattern and string from where we want to match. We need to store the result of the sub problem (True/False) in a dict. The dict say dp will have the key as a tuple storing the (pattern_start,string_start) index and value will be the result computed of the sub problem (True/False). When there is again a similar problem, we will look up the key in the dict to check if we have a value in the dp dict, if so, then we need not compute the sub problem. refer image Live 5, Image 4\n",
    "\n",
    "# dp: dict\n",
    "# eg: pattern to match = [2:], string to match = [3:], pattern_start=2, string_start=3\n",
    "def isMatchDP(pattern, string, pattern_start, string_start, dp ):\n",
    "    \n",
    "    #print(pattern_start, string_start);\n",
    "    \n",
    "    # checking if the below tuple (pattern_start, string_start) exists in dp ie is the sub problem already solved ?\n",
    "    if  (pattern_start, string_start) in dp:\n",
    "        return dp[(pattern_start, string_start)] #return the result of sub problem\n",
    "    \n",
    "    p = pattern[pattern_start:];\n",
    "    s = string[string_start:];\n",
    "    \n",
    "    \n",
    "    print(p,s) # print statemnt for debugging\n",
    "    \n",
    "    # boundary cases of recursion\n",
    "    if p == s:\n",
    "        #store result in the dict\n",
    "        dp[(pattern_start, string_start)] = True;\n",
    "        return True\n",
    "    \n",
    "    if p == \"*\":\n",
    "        #store result in the dict\n",
    "        dp[(pattern_start, string_start)] = True;\n",
    "        return True\n",
    "    \n",
    "    if p == \"\" or s == \"\":\n",
    "        #store result in the dict\n",
    "        dp[(pattern_start, string_start)] = False;\n",
    "        return False\n",
    "    \n",
    "    # recursion case-1\n",
    "    if p[0] == s[0] or p[0] == '?':\n",
    "        tmp = isMatchDP(pattern, string, pattern_start+1, string_start+1, dp)\n",
    "        \n",
    "        #store result in the dict\n",
    "        dp[(pattern_start, string_start)] = tmp;\n",
    "        return tmp;\n",
    "    \n",
    "    # recursion-case-2\n",
    "    if p[0] == '*':\n",
    "        tmp = ( isMatchDP( pattern, string, pattern_start+1, string_start, dp) or isMatchDP( pattern, string, pattern_start, string_start+1, dp))\n",
    "        \n",
    "        #store result in the dict\n",
    "        dp[(pattern_start, string_start)] = tmp;\n",
    "        return tmp;\n",
    "    \n",
    "    # last case: if p[0] is a character\n",
    "    if  p[0] != s[0]:\n",
    "        #store result in the dict\n",
    "        dp[(pattern_start, string_start)] = False;\n",
    "        return False;\n",
    "    "
   ]
  },
  {
   "cell_type": "code",
   "execution_count": null,
   "metadata": {},
   "outputs": [],
   "source": [
    "Difference b/w the recursive solution and Memoization based DP solution is that we are using a dict to store the results of the sub problem and inside the function, we first check if the sub problem has been solved, if solved we just return that, and we stre the results in a dict before returning True"
   ]
  },
  {
   "cell_type": "code",
   "execution_count": 6,
   "metadata": {},
   "outputs": [
    {
     "output_type": "stream",
     "name": "stdout",
     "text": [
      "* ab\nTrue\n"
     ]
    }
   ],
   "source": [
    "print(isMatchDP(\"*\",\"ab\",0,0, {}))"
   ]
  },
  {
   "cell_type": "code",
   "execution_count": 7,
   "metadata": {},
   "outputs": [
    {
     "output_type": "stream",
     "name": "stdout",
     "text": [
      "?a baa\na aa\n a\nFalse\n"
     ]
    }
   ],
   "source": [
    "print(isMatchDP(\"?a\" ,\"baa\",0,0,{}))"
   ]
  },
  {
   "cell_type": "code",
   "execution_count": 8,
   "metadata": {},
   "outputs": [
    {
     "output_type": "stream",
     "name": "stdout",
     "text": [
      "?a* baa\na* aa\n* a\nTrue\n"
     ]
    }
   ],
   "source": [
    "print(isMatchDP(\"?a*\" ,\"baa\",0,0,{}))"
   ]
  },
  {
   "cell_type": "code",
   "execution_count": null,
   "metadata": {},
   "outputs": [],
   "source": [
    "The above approach is also called as 2 Dimensional DP because we have 2 vars which are changing as part of the recursion. They are pattern_start, string_start, these values are increasing from 1 to n\n",
    "\n",
    "The Factorial fn is a 1 Dimensional DP\n",
    "fact(n):\n",
    "    if n == 1:\n",
    "        return 1\n",
    "    else:\n",
    "        return n * fact(n-1)\n",
    "\n",
    "Here only the value of one var \"n\" is being modified in the recusrion\n",
    "\n",
    "Regexes use DP extensively\n",
    "\n",
    "### Additional Resources:\n",
    "- https://www.geeksforgeeks.org/solve-dynamic-programming-problem/\n",
    "- 50 practice problems: https://blog.usejournal.com/top-50-dynamic-programming-practice-problems-4208fed71aa3"
   ]
  },
  {
   "cell_type": "code",
   "execution_count": null,
   "metadata": {},
   "outputs": [],
   "source": [
    "# Python's inbuilt data-structures: List, Dict, Set, Tuple \n",
    "- Big practical question: Where to use which DS?"
   ]
  },
  {
   "cell_type": "code",
   "execution_count": null,
   "metadata": {},
   "outputs": [],
   "source": [
    "### Key properties (recap): \n",
    "- LIST: [1,2,3,4,5], ordered, indexable, iterable\n",
    "\n",
    "- DICT:  {'jack': 4098, 'sape': 4139}, O(1) search, <k,v> pairs, iterable, ordered(3.7+)[https://docs.python.org/3/whatsnew/3.7.html]\n",
    "\n",
    "- TUPLE: (1,2,3), immutable, ordered-k-items, \n",
    "\n",
    "- SET: {1,2,3}, unordered, iterable, no-duplicates.\n",
    "\n",
    "\n",
    "\" A DS is decided based on what operations you want to perform on it and how fast these operations are\""
   ]
  },
  {
   "cell_type": "code",
   "execution_count": null,
   "metadata": {},
   "outputs": [],
   "source": [
    " Q. Represent a 3-D point as a parameter to a function: f(3D-point)\n",
    "# amongst tuple, set, list, dict ? "
   ]
  },
  {
   "cell_type": "code",
   "execution_count": null,
   "metadata": {},
   "outputs": [],
   "source": [
    "we can use tuple, dict or list"
   ]
  },
  {
   "cell_type": "code",
   "execution_count": null,
   "metadata": {},
   "outputs": [],
   "source": [
    "#### Notice the shape parameter in NumPy\n",
    "\n",
    "class numpy.ndarray(shape, dtype=float, buffer=None, offset=0, strides=None, order=None)[source]\n",
    "An array object represents a multidimensional, homogeneous array of fixed-size items. An associated data-type object describes the format of each element in the array (its byte-order, how many bytes it occupies in memory, whether it is an integer, a floating point number, or something else, etc.)\n",
    "\n",
    "Arrays should be constructed using array, zeros or empty (refer to the See Also section below). The parameters given here refer to a low-level method (ndarray(…)) for instantiating an array.\n",
    "\n",
    "For more information, refer to the numpy module and examine the methods and attributes of an array.\n",
    "\n",
    "Parameters:\t\n",
    "(for the __new__ method; see Notes below)\n",
    "shape : tuple of ints\n",
    "Shape of created array.\n",
    "\n",
    "dtype : data-type, optional\n",
    "Any object that can be interpreted as a numpy data type.\n",
    "\n",
    "buffer : object exposing buffer interface, optional\n",
    "Used to fill the array with data.\n",
    "\n",
    "offset : int, optional\n",
    "Offset of array data in buffer."
   ]
  },
  {
   "cell_type": "code",
   "execution_count": null,
   "metadata": {},
   "outputs": [],
   "source": [
    "If the value of the 3d point is being modified in the function, then we can choose to use list, bcoz tuples are immutable"
   ]
  },
  {
   "cell_type": "code",
   "execution_count": 9,
   "metadata": {},
   "outputs": [
    {
     "output_type": "stream",
     "name": "stdout",
     "text": [
      "(0, 1, 2)\n0\n"
     ]
    },
    {
     "output_type": "error",
     "ename": "TypeError",
     "evalue": "'tuple' object does not support item assignment",
     "traceback": [
      "\u001b[1;31m---------------------------------------------------------------------------\u001b[0m",
      "\u001b[1;31mTypeError\u001b[0m                                 Traceback (most recent call last)",
      "\u001b[1;32m<ipython-input-9-98f7f5d26278>\u001b[0m in \u001b[0;36m<module>\u001b[1;34m\u001b[0m\n\u001b[0;32m     10\u001b[0m \u001b[0mprint\u001b[0m\u001b[1;33m(\u001b[0m\u001b[0mt\u001b[0m\u001b[1;33m[\u001b[0m\u001b[1;36m0\u001b[0m\u001b[1;33m]\u001b[0m\u001b[1;33m)\u001b[0m\u001b[1;33m\u001b[0m\u001b[1;33m\u001b[0m\u001b[0m\n\u001b[0;32m     11\u001b[0m \u001b[1;33m\u001b[0m\u001b[0m\n\u001b[1;32m---> 12\u001b[1;33m \u001b[0mf\u001b[0m\u001b[1;33m(\u001b[0m\u001b[0mt\u001b[0m\u001b[1;33m)\u001b[0m\u001b[1;33m;\u001b[0m\u001b[1;33m\u001b[0m\u001b[1;33m\u001b[0m\u001b[0m\n\u001b[0m\u001b[0;32m     13\u001b[0m \u001b[1;33m\u001b[0m\u001b[0m\n\u001b[0;32m     14\u001b[0m \u001b[0mprint\u001b[0m\u001b[1;33m(\u001b[0m\u001b[0mt\u001b[0m\u001b[1;33m)\u001b[0m\u001b[1;33m\u001b[0m\u001b[1;33m\u001b[0m\u001b[0m\n",
      "\u001b[1;32m<ipython-input-9-98f7f5d26278>\u001b[0m in \u001b[0;36mf\u001b[1;34m(t)\u001b[0m\n\u001b[0;32m      1\u001b[0m \u001b[1;32mdef\u001b[0m \u001b[0mf\u001b[0m\u001b[1;33m(\u001b[0m\u001b[0mt\u001b[0m\u001b[1;33m)\u001b[0m\u001b[1;33m:\u001b[0m\u001b[1;33m\u001b[0m\u001b[1;33m\u001b[0m\u001b[0m\n\u001b[1;32m----> 2\u001b[1;33m     \u001b[0mt\u001b[0m\u001b[1;33m[\u001b[0m\u001b[1;36m0\u001b[0m\u001b[1;33m]\u001b[0m \u001b[1;33m=\u001b[0m \u001b[0mt\u001b[0m\u001b[1;33m[\u001b[0m\u001b[1;36m0\u001b[0m\u001b[1;33m]\u001b[0m\u001b[1;33m+\u001b[0m\u001b[1;36m1\u001b[0m\u001b[1;33m;\u001b[0m\u001b[1;33m\u001b[0m\u001b[1;33m\u001b[0m\u001b[0m\n\u001b[0m\u001b[0;32m      3\u001b[0m     \u001b[0mt\u001b[0m\u001b[1;33m[\u001b[0m\u001b[1;36m1\u001b[0m\u001b[1;33m]\u001b[0m \u001b[1;33m=\u001b[0m \u001b[0mt\u001b[0m\u001b[1;33m[\u001b[0m\u001b[1;36m1\u001b[0m\u001b[1;33m]\u001b[0m\u001b[1;33m+\u001b[0m\u001b[1;36m1\u001b[0m\u001b[1;33m;\u001b[0m\u001b[1;33m\u001b[0m\u001b[1;33m\u001b[0m\u001b[0m\n\u001b[0;32m      4\u001b[0m     \u001b[0mt\u001b[0m\u001b[1;33m[\u001b[0m\u001b[1;36m2\u001b[0m\u001b[1;33m]\u001b[0m \u001b[1;33m=\u001b[0m \u001b[0mt\u001b[0m\u001b[1;33m[\u001b[0m\u001b[1;36m2\u001b[0m\u001b[1;33m]\u001b[0m\u001b[1;33m+\u001b[0m\u001b[1;36m1\u001b[0m\u001b[1;33m;\u001b[0m\u001b[1;33m\u001b[0m\u001b[1;33m\u001b[0m\u001b[0m\n\u001b[0;32m      5\u001b[0m     \u001b[1;32mreturn\u001b[0m\u001b[1;33m;\u001b[0m\u001b[1;33m\u001b[0m\u001b[1;33m\u001b[0m\u001b[0m\n",
      "\u001b[1;31mTypeError\u001b[0m: 'tuple' object does not support item assignment"
     ]
    }
   ],
   "source": [
    "def f(t):\n",
    "    t[0] = t[0]+1;\n",
    "    t[1] = t[1]+1;\n",
    "    t[2] = t[2]+1;\n",
    "    return;\n",
    "\n",
    "t=(0,1,2);\n",
    "print(t);\n",
    "\n",
    "print(t[0])\n",
    "\n",
    "f(t);\n",
    "\n",
    "print(t)\n",
    "\n",
    "# tuples are immutable"
   ]
  },
  {
   "cell_type": "code",
   "execution_count": 10,
   "metadata": {},
   "outputs": [
    {
     "output_type": "stream",
     "name": "stdout",
     "text": [
      "[0, 1, 2]\n0\n[1, 2, 3]\n"
     ]
    }
   ],
   "source": [
    "# lists are mutable and ordered.\n",
    "\n",
    "def f(t):\n",
    "    t[0] = t[0]+1;\n",
    "    t[1] = t[1]+1;\n",
    "    t[2] = t[2]+1;\n",
    "    return;\n",
    "\n",
    "t=[0,1,2];\n",
    "print(t);\n",
    "\n",
    "print(t[0])\n",
    "\n",
    "f(t);\n",
    "\n",
    "print(t)"
   ]
  },
  {
   "cell_type": "code",
   "execution_count": null,
   "metadata": {},
   "outputs": [],
   "source": [
    "#### Example: Mutable and immutable & Parameter passing\n",
    "https://stackoverflow.com/a/986145"
   ]
  },
  {
   "cell_type": "code",
   "execution_count": null,
   "metadata": {},
   "outputs": [],
   "source": [
    " Q. If you were to design NumPy from scratch, which inbuilt DS would you use to design ndarray?\n",
    "Ans: List of List"
   ]
  },
  {
   "cell_type": "code",
   "execution_count": null,
   "metadata": {},
   "outputs": [],
   "source": [
    "Q. How do you think data is internally stored in Numpy Arrays?\n",
    "\n",
    "Numpy internally uses C/C++ to perform computationally operations bcoz C, C++ are very fast and have a good RAM optimization\n",
    "\n",
    "\"Why are NumPy arrays efficient?\n",
    "\n",
    "A NumPy array is basically described by metadata (notably the number of dimensions, the shape, and the data type) and the actual data. The data is stored in a homogeneous and contiguous block of memory , at a particular address in system memory (Random Access Memory, or RAM). This block of memory is called the data buffer. This is the main difference between an array and a pure Python structure, such as a list, where the items are scattered across the system memory. This aspect is the critical feature that makes NumPy arrays so efficient.\"\n",
    "\n",
    "Source: https://ipython-books.github.io/45-understanding-the-internals-of-numpy-to-avoid-unnecessary-array-copying/\n",
    "\n",
    "The data (in the rows columns of matrix) is stored in a homogeneous and contiguous block of memory using the malloc() function\n",
    "To access the rows and columns, the memory is not changed, the representation of the memory changes "
   ]
  },
  {
   "cell_type": "code",
   "execution_count": null,
   "metadata": {},
   "outputs": [],
   "source": [
    " Q. You want to write the program to obtain various combinations. How do you take the input?"
   ]
  },
  {
   "cell_type": "code",
   "execution_count": null,
   "metadata": {},
   "outputs": [],
   "source": [
    "Storing the result of such combinations in a Set of Sets is a good idea, bcoz we are not concerned about the order of combinations, but only concerned that duplicate pairs should not exist"
   ]
  },
  {
   "cell_type": "code",
   "execution_count": null,
   "metadata": {},
   "outputs": [],
   "source": [
    "Refer: https://docs.python.org/2/library/itertools.html#itertools.combinations\n",
    "        \n",
    "itertools.combinations(iterable, r)\n",
    "\n",
    "Return r length subsequences of elements from the input iterable.\n",
    "Combinations are emitted in lexicographic sort order. So, if the input iterable is sorted, the combination tuples will be produced in sorted order.\n",
    "Elements are treated as unique based on their position, not on their value. So if the input elements are unique, there will be no repeat values in each combination.\n",
    "\n",
    "Therefore storing such combinations in a Set of Sets is a good idea, bcoz we are not concerned about the order of combinations, but only concerned that duplicate pairs should not exist"
   ]
  },
  {
   "cell_type": "code",
   "execution_count": 12,
   "metadata": {},
   "outputs": [
    {
     "output_type": "stream",
     "name": "stdout",
     "text": [
      "<class 'itertools.combinations'>\n(1, 2)\n(1, 3)\n(1, 4)\n(1, 5)\n(2, 3)\n(2, 4)\n(2, 5)\n(3, 4)\n(3, 5)\n(4, 5)\n"
     ]
    }
   ],
   "source": [
    "import itertools\n",
    "\n",
    "res = itertools.combinations([1,2,3,4,5],2)\n",
    "\n",
    "print(type(res))\n",
    "\n",
    "for val in res:\n",
    "    print(val)"
   ]
  },
  {
   "cell_type": "code",
   "execution_count": null,
   "metadata": {},
   "outputs": [],
   "source": [
    "Q. How would you build a TinyURL service? [https://tinyurl.com/]\n",
    "- Popular interview question"
   ]
  },
  {
   "cell_type": "code",
   "execution_count": null,
   "metadata": {},
   "outputs": [],
   "source": [
    "2 key operations to perform:\n",
    "1. Given a long URL -> we want to create a short URL\n",
    "2. Given a short URL -> we need to retrieve the long URL and redirect\n",
    "\n",
    "We can use a dict here, where key=short url and value=long url, bcoz we want to search the short url to find its respective long url\n",
    "Time complexity in search is O(1)\n",
    "\n",
    "How to generate a short url ?\n",
    "We can do so by using some randomly generated variable length string, say from 6-10\n",
    "\n",
    "Dict/Hashtable has <K,V> pairs\n",
    "\n",
    "Key = short-URL\n",
    "Value = Long-URL\n",
    "\n",
    "Key: random variable length alphabetic suffix [tinyurl.com/tgwxyc]"
   ]
  },
  {
   "cell_type": "code",
   "execution_count": 13,
   "metadata": {},
   "outputs": [],
   "source": [
    "import random\n",
    "import string\n",
    "\n",
    "d = {};\n",
    "\n",
    "# given a long URL, get a short URL\n",
    "def getShortURL(longURL):\n",
    "    # length = random value in 6-10\n",
    "    l = random.randint(6,10);\n",
    "    print(l);\n",
    "    \n",
    "    # generate random characters into a string of length l\n",
    "\n",
    "    # gets all lowercase chars\n",
    "    chars = string.ascii_lowercase\n",
    "\n",
    "    #pick 1 char randomly from above chars - repeating this l times and joining these l chars\n",
    "    shortURL = ''.join(random.choice(chars) for i in range(l))\n",
    "    print(shortURL);\n",
    "    \n",
    "    # check if this string is already present in dict d\n",
    "    #boundary case\n",
    "    if shortURL in d:\n",
    "        return getShortURL(longURL);\n",
    "    else:\n",
    "        d[shortURL] = longURL;\n",
    "        \n",
    "    print(d)\n",
    "    r = \"https://www.shortURL.com/\"+shortURL\n",
    "    return r;\n",
    "\n"
   ]
  },
  {
   "cell_type": "code",
   "execution_count": 14,
   "metadata": {},
   "outputs": [
    {
     "output_type": "stream",
     "name": "stdout",
     "text": [
      "10\nymuptyapez\n{'ymuptyapez': 'www.appliedaicourse.com'}\nhttps://www.shortURL.com/ymuptyapez\n"
     ]
    }
   ],
   "source": [
    "print(getShortURL(\"www.appliedaicourse.com\"))"
   ]
  },
  {
   "cell_type": "code",
   "execution_count": 15,
   "metadata": {},
   "outputs": [
    {
     "output_type": "stream",
     "name": "stdout",
     "text": [
      "9\nuvypqhzvz\n{'ymuptyapez': 'www.appliedaicourse.com', 'uvypqhzvz': 'www.appliedaicourse.com'}\nhttps://www.shortURL.com/uvypqhzvz\n"
     ]
    }
   ],
   "source": [
    "#we are generating a new short url everytime the fn is called with the same url\n",
    "#to avoid this, we can create another dict say d2 whose key will be the long url and value will be short url, and upon calling the function, it will first check if the long url is already present in d2, and return it else create an entry in d and d2\n",
    "\n",
    "print(getShortURL(\"www.appliedaicourse.com\"))"
   ]
  },
  {
   "cell_type": "code",
   "execution_count": 6,
   "metadata": {},
   "outputs": [],
   "source": [
    "# Handle Errors and return None\n",
    "\n",
    "def getLongURL(shortURL):\n",
    "    \n",
    "    # extarct key from URL https://www.shortURL.com/mxzmuis ---> mxzmuis\n",
    "    k = shortURL[25:];\n",
    "    print(k)\n",
    "    \n",
    "    if k in d:\n",
    "        return d[k];\n",
    "    else:\n",
    "        return None;"
   ]
  },
  {
   "cell_type": "code",
   "execution_count": 7,
   "metadata": {},
   "outputs": [
    {
     "output_type": "stream",
     "name": "stdout",
     "text": [
      "abcdef\nNone\n"
     ]
    }
   ],
   "source": [
    "print(getLongURL(\"https://www.shortURL.com/abcdef\"))"
   ]
  },
  {
   "cell_type": "code",
   "execution_count": 18,
   "metadata": {},
   "outputs": [
    {
     "output_type": "stream",
     "name": "stdout",
     "text": [
      "mxzmuis\nNone\n"
     ]
    }
   ],
   "source": [
    "print(getLongURL(\"https://www.shortURL.com/mxzmuis\"))"
   ]
  },
  {
   "cell_type": "code",
   "execution_count": null,
   "metadata": {},
   "outputs": [],
   "source": [
    "Exercise: Find all documents which contain search keywords and phrases.\n",
    "\n",
    "Bunch of text documents, we want to build a search engine which will search for words containing query like \"Machine Learning\". There can be several queries. We want to return all the documents which contain such types of queries"
   ]
  },
  {
   "cell_type": "code",
   "execution_count": null,
   "metadata": {},
   "outputs": [],
   "source": [
    "Building this using regex will not be a good approach in case when the document size and no.of documents is less.\n",
    "But for documents in millions and huge word length docs and large no. of queries per hour, this will not be a good solution as this will exceed RAM \n",
    "\n",
    "We can instead use a dict which will store the word in the document and value will be a set of document ids which store that word"
   ]
  },
  {
   "cell_type": "code",
   "execution_count": null,
   "metadata": {},
   "outputs": [],
   "source": [
    "We do some pre-processing first corpus or text data:\n",
    "\n",
    "for each document:\n",
    "    for each word:\n",
    "        if word in dict:\n",
    "            update document no in the dict value\n",
    "        else:\n",
    "            add new entry to the dict of the word and store the document id as the value\n",
    "\n",
    " Then when we get a query say \"Machine Learning\"\n",
    " We look up for the word \"Machine\" in the dict and find its document ids\n",
    " We then look up for the word \"Learning\" in the dict and find its document ids\n",
    " We then use intersection to intersect both the sets, which will return a set of documents\n",
    "\n",
    "The problem with this approach is that we are not searching for the full phrase like \"Machine Learning\" in the docs, we are searching for individual words. This may not be contextual but a First Cut Solution\n",
    "This approach is called 1-grams in NLP because key is a single word"
   ]
  },
  {
   "cell_type": "code",
   "execution_count": null,
   "metadata": {},
   "outputs": [],
   "source": [
    "We can instead create a key of 1-grams and 2-grams ie storing 2 sequential words with a space as a key\n",
    "This will increase the size of the dict enormously\n",
    "\n",
    "Real world seach engines use 3-4-5 grams in teh dict, which will make the dict vvvv large in TB - out of RAM\n",
    "What we can do is take this dict and store it in the RAM of multiple computers, such a dict is called Distributed Hashtables or Distributed Dictionaries\n",
    "\n",
    "ElasticSearch is useful for creating Distributed Hashtables for ElasticSearch\n",
    "\n",
    "This type of datastructure where we are storing the words as keys and documents as values is called an Inverted Index\n",
    "Search Engines use the Inverted Index\n",
    "ElasticSearch is a Distributed Inverted Index based system\n",
    "Google has an internal tool called Big Query similar to ElasticSearch\n",
    "\n",
    "Redis and Memcache are distributed systems that provide Hashtables or general purpose dict distributed across multiple systems\n",
    "Refer Image 5"
   ]
  },
  {
   "cell_type": "code",
   "execution_count": 111,
   "metadata": {},
   "outputs": [],
   "source": [
    "documents = [\n",
    "   {\n",
    "      \"id\":1,\n",
    "      \"value\":\"Machine learning is a method of data analysis that automates analytical model building. It is a branch of artificial intelligence based on the idea that systems can learn from data, identify patterns and make decisions with minimal human intervention.\"\n",
    "   },\n",
    "   {\n",
    "      \"id\":2,\n",
    "      \"value\":\"Because of new computing technologies, machine learning today is not like machine learning of the past\"\n",
    "   },\n",
    "   {\n",
    "      \"id\":3,\n",
    "      \"value\":\"It was born from pattern recognition and the theory that computers can learn without being programmed to perform specific tasks; researchers interested in artificial intelligence wanted to see if computers could learn from data.\"\n",
    "   },\n",
    "   {\n",
    "      \"id\":4,\n",
    "      \"value\":\"The iterative aspect of machine learning is important because as models are exposed to new data, they are able to independently adapt. They learn from previous computations to produce reliable, repeatable decisions and results.\"\n",
    "   },\n",
    "   {\n",
    "      \"id\":5,\n",
    "      \"value\":\"It’s a science that’s not new – but one that has gained fresh momentum.\"\n",
    "   },\n",
    "   {\n",
    "      \"id\":6,\n",
    "      \"value\":\"While many machine learning algorithms have been around for a long time, the ability to automatically apply complex mathematical calculations to big data – over and over, faster and faster – is a recent development.\"\n",
    "   },\n",
    "   {\n",
    "      \"id\":7,\n",
    "      \"value\":\"Here are a few widely publicized examples of machine learning applications you may be familiar with\"\n",
    "   },\n",
    "   {\n",
    "      \"id\":8,\n",
    "      \"value\":\"The heavily hyped, self-driving Google car? The essence of machine learning.\"\n",
    "   },\n",
    "   {\n",
    "      \"id\":9,\n",
    "      \"value\":\"Online recommendation offers such as those from Amazon and Netflix? Machine learning applications for everyday life.\"\n",
    "   },\n",
    "   {\n",
    "      \"id\":10,\n",
    "      \"value\":\"Knowing what customers are saying about you on Twitter? Machine learning combined with linguistic rule creation.\"\n",
    "   }\n",
    "]\n"
   ]
  },
  {
   "cell_type": "code",
   "execution_count": 92,
   "metadata": {},
   "outputs": [],
   "source": [
    "# 1-grams approach\n",
    "import re\n",
    "\n",
    "d = {}\n",
    "\n",
    "def preprocess(d):\n",
    "\n",
    "    for doc in documents:\n",
    "        for word in doc[\"value\"].split():\n",
    "            word = word.lower()\n",
    "            \n",
    "            # substitute word with only word chars, remove chars which are not alphabets\n",
    "            re.sub(r'\\W+', '', word)\n",
    "            \n",
    "            if word in d:\n",
    "                d[word].add(doc[\"id\"])\n",
    "            else:\n",
    "                d[word] = {doc[\"id\"]}\n"
   ]
  },
  {
   "cell_type": "code",
   "execution_count": 93,
   "metadata": {
    "tags": []
   },
   "outputs": [],
   "source": [
    "preprocess(d)"
   ]
  },
  {
   "cell_type": "code",
   "execution_count": 94,
   "metadata": {},
   "outputs": [],
   "source": [
    "\n",
    "def findDocument(query):\n",
    "    if query in d:\n",
    "        return d[query]\n",
    "    else:\n",
    "        return None\n"
   ]
  },
  {
   "cell_type": "code",
   "execution_count": 95,
   "metadata": {},
   "outputs": [
    {
     "output_type": "stream",
     "name": "stdout",
     "text": [
      "{1, 2, 4, 6, 7, 8, 9, 10}\n"
     ]
    }
   ],
   "source": [
    "query = \"Machine\"\n",
    "query = query.lower()\n",
    "documents = findDocument(query)\n",
    "print(documents)"
   ]
  },
  {
   "cell_type": "code",
   "execution_count": 116,
   "metadata": {},
   "outputs": [],
   "source": [
    "#2-grams approach\n",
    "\n",
    "import re\n",
    "d = {}\n",
    "\n",
    "def preprocess(d):\n",
    "\n",
    "    for doc in documents:\n",
    "        words = doc[\"value\"].split()\n",
    "\n",
    "        for index, word in enumerate(words):\n",
    "            word = word.lower()\n",
    "            \n",
    "            # substitute word with only word chars, remove chars which are not alphabets\n",
    "            re.sub(r'\\W+', '', word)\n",
    "            \n",
    "            while index <= len(words):\n",
    "                key = word + \" \" + words[index+1]\n",
    "                if key in d:\n",
    "                    d[key].add(doc[\"id\"])\n",
    "                else:\n",
    "                    d[key] = {doc[\"id\"]}"
   ]
  },
  {
   "cell_type": "code",
   "execution_count": 115,
   "metadata": {
    "tags": []
   },
   "outputs": [
    {
     "output_type": "error",
     "ename": "KeyboardInterrupt",
     "evalue": "",
     "traceback": [
      "\u001b[1;31m---------------------------------------------------------------------------\u001b[0m",
      "\u001b[1;31mKeyboardInterrupt\u001b[0m                         Traceback (most recent call last)",
      "\u001b[1;32m<ipython-input-115-e68681a308e3>\u001b[0m in \u001b[0;36m<module>\u001b[1;34m\u001b[0m\n\u001b[1;32m----> 1\u001b[1;33m \u001b[0mpreprocess\u001b[0m\u001b[1;33m(\u001b[0m\u001b[0md\u001b[0m\u001b[1;33m)\u001b[0m\u001b[1;33m\u001b[0m\u001b[1;33m\u001b[0m\u001b[0m\n\u001b[0m\u001b[0;32m      2\u001b[0m \u001b[0mprint\u001b[0m\u001b[1;33m(\u001b[0m\u001b[0md\u001b[0m\u001b[1;33m)\u001b[0m\u001b[1;33m\u001b[0m\u001b[1;33m\u001b[0m\u001b[0m\n",
      "\u001b[1;32m<ipython-input-114-66ec7f478185>\u001b[0m in \u001b[0;36mpreprocess\u001b[1;34m(d)\u001b[0m\n\u001b[0;32m     18\u001b[0m                 \u001b[0mkey\u001b[0m \u001b[1;33m=\u001b[0m \u001b[0mword\u001b[0m \u001b[1;33m+\u001b[0m \u001b[1;34m\" \"\u001b[0m \u001b[1;33m+\u001b[0m \u001b[0mwords\u001b[0m\u001b[1;33m[\u001b[0m\u001b[0mindex\u001b[0m\u001b[1;33m+\u001b[0m\u001b[1;36m1\u001b[0m\u001b[1;33m]\u001b[0m\u001b[1;33m\u001b[0m\u001b[1;33m\u001b[0m\u001b[0m\n\u001b[0;32m     19\u001b[0m                 \u001b[1;32mif\u001b[0m \u001b[0mkey\u001b[0m \u001b[1;32min\u001b[0m \u001b[0md\u001b[0m\u001b[1;33m:\u001b[0m\u001b[1;33m\u001b[0m\u001b[1;33m\u001b[0m\u001b[0m\n\u001b[1;32m---> 20\u001b[1;33m                     \u001b[0md\u001b[0m\u001b[1;33m[\u001b[0m\u001b[0mkey\u001b[0m\u001b[1;33m]\u001b[0m\u001b[1;33m.\u001b[0m\u001b[0madd\u001b[0m\u001b[1;33m(\u001b[0m\u001b[0mdoc\u001b[0m\u001b[1;33m[\u001b[0m\u001b[1;34m\"id\"\u001b[0m\u001b[1;33m]\u001b[0m\u001b[1;33m)\u001b[0m\u001b[1;33m\u001b[0m\u001b[1;33m\u001b[0m\u001b[0m\n\u001b[0m\u001b[0;32m     21\u001b[0m                 \u001b[1;32melse\u001b[0m\u001b[1;33m:\u001b[0m\u001b[1;33m\u001b[0m\u001b[1;33m\u001b[0m\u001b[0m\n\u001b[0;32m     22\u001b[0m                     \u001b[0md\u001b[0m\u001b[1;33m[\u001b[0m\u001b[0mkey\u001b[0m\u001b[1;33m]\u001b[0m \u001b[1;33m=\u001b[0m \u001b[1;33m{\u001b[0m\u001b[0mdoc\u001b[0m\u001b[1;33m[\u001b[0m\u001b[1;34m\"id\"\u001b[0m\u001b[1;33m]\u001b[0m\u001b[1;33m}\u001b[0m\u001b[1;33m\u001b[0m\u001b[1;33m\u001b[0m\u001b[0m\n",
      "\u001b[1;31mKeyboardInterrupt\u001b[0m: "
     ]
    }
   ],
   "source": [
    "preprocess(d)\n",
    "print(d)"
   ]
  },
  {
   "cell_type": "code",
   "execution_count": null,
   "metadata": {},
   "outputs": [],
   "source": []
  }
 ]
}