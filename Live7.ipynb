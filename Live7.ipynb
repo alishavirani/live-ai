{
 "metadata": {
  "language_info": {
   "codemirror_mode": {
    "name": "ipython",
    "version": 3
   },
   "file_extension": ".py",
   "mimetype": "text/x-python",
   "name": "python",
   "nbconvert_exporter": "python",
   "pygments_lexer": "ipython3",
   "version": "3.9.2-final"
  },
  "orig_nbformat": 2,
  "kernelspec": {
   "name": "python3",
   "display_name": "Python 3.9.2 64-bit",
   "metadata": {
    "interpreter": {
     "hash": "e670e257c3dff639f6b8c5fb0b51b4fc19cfdd43db06b8875e07928619fd68d0"
    }
   }
  }
 },
 "nbformat": 4,
 "nbformat_minor": 2,
 "cells": [
  {
   "cell_type": "code",
   "execution_count": null,
   "metadata": {},
   "outputs": [],
   "source": [
    " Procedural (C) vs OOP (C++/Java/Python)\n",
    "- Large software can be built in C. e.g: Linux Kernel\n",
    "- OOP: Easier to design, reuse components and build large software\n",
    "- SDE: should know OOP as they will be working in teams building large software\n",
    "- ML & DS roles: Should know the basics to use various modules and extend them when needed. \n",
    "- The true power of OOP and OOD can be undestood when deisgning a large piece of software like a library for plotting"
   ]
  },
  {
   "cell_type": "code",
   "execution_count": 1,
   "metadata": {},
   "outputs": [],
   "source": [
    "\n",
    "# NON-OOP (a.k.a Procedural) based implementation of a ShortURL System.\n",
    "\n",
    "import random\n",
    "import string\n",
    "\n",
    "d = dict();\n",
    "\n",
    "# given a long URL, get a short URL\n",
    "def getShortURL(longURL):\n",
    "    # length = random value in 6-10\n",
    "    l = random.randint(6,10);\n",
    "    \n",
    "    \n",
    "    # generate random characters into a string of length l\n",
    "    chars = string.ascii_lowercase\n",
    "    shortURL = ''.join(random.choice(chars) for i in range(l))\n",
    "    \n",
    "    \n",
    "    # check if this string is already present in dict d\n",
    "    if shortURL in d:\n",
    "        return getShortURL(longURL);\n",
    "    else:\n",
    "        d[shortURL] = longURL;\n",
    "        \n",
    "    \n",
    "    r = \"https://www.shortURL.com/\"+shortURL\n",
    "    return r;\n",
    "\n",
    "def getLongURL(shortURL):\n",
    "    \n",
    "    # extarct key from URL https://www.shortURL.com/mxzmuis ---> mxzmuis\n",
    "    k = shortURL[25:];\n",
    "    \n",
    "    \n",
    "    if k in d:\n",
    "        return d[k];\n",
    "    else:\n",
    "        return None;"
   ]
  },
  {
   "cell_type": "code",
   "execution_count": null,
   "metadata": {},
   "outputs": [],
   "source": [
    " Class: datatype \n",
    " Object: variable"
   ]
  },
  {
   "cell_type": "code",
   "execution_count": 3,
   "metadata": {},
   "outputs": [],
   "source": [
    "# Class: group all variables/attributes and functions/methods into a single logical unit\n",
    "\n",
    "class ShortURL:\n",
    "    \n",
    "    def __init__(self): # constructor; not must, but, good to have;  initialize all attributes here\n",
    "        self.d=dict();\n",
    "\n",
    "    # given a long URL, get a short URL\n",
    "    def getShortURL(self, longURL): # first argument to all methods is \"self\" => this object\n",
    "        # length = random value in 6-10\n",
    "        l = random.randint(6,10);\n",
    "        \n",
    "\n",
    "        # generate random characters into a string of length l\n",
    "        chars = string.ascii_lowercase\n",
    "        shortURL = ''.join(random.choice(chars) for i in range(l))\n",
    "        \n",
    "\n",
    "        # check if this string is already present in dict d\n",
    "        if shortURL in self.d:\n",
    "            return getShortURL(longURL);\n",
    "        else:\n",
    "            self.d[shortURL] = longURL;\n",
    "\n",
    "        \n",
    "        r = \"https://www.shortURL.com/\"+shortURL\n",
    "        return r;\n",
    "\n",
    "    def getLongURL(self, shortURL):\n",
    "\n",
    "       # print(self.d); # print statemnt for debugging\n",
    "        \n",
    "        # extarct key from URL https://www.shortURL.com/mxzmuis ---> mxzmuis\n",
    "        k = shortURL[25:];\n",
    "        \n",
    "\n",
    "        if k in self.d:\n",
    "            return self.d[k];\n",
    "        else:\n",
    "            return None;\n"
   ]
  },
  {
   "cell_type": "code",
   "execution_count": 4,
   "metadata": {},
   "outputs": [
    {
     "output_type": "stream",
     "name": "stdout",
     "text": [
      "<class '__main__.ShortURL'>\n"
     ]
    }
   ],
   "source": [
    "# Class: datatype/DS & Object: variable of a class\n",
    "s = ShortURL() # constructor being called; memory allocated.\n",
    "\n",
    "print(type(s))\n",
    "\n",
    "#self is the reference to the object s, self is the object which is calling the class"
   ]
  },
  {
   "cell_type": "code",
   "execution_count": null,
   "metadata": {},
   "outputs": [],
   "source": [
    "What does this \"__main__\" mean?\n",
    "\n",
    "The script invoked directly is considered to be in the __main__ module. It can be imported and accessed the same way as any other module.\n",
    "For eg: when we import Numpy and check the type of ndarray of its function we see that the type is Numpy.ndarray, here Numpy is the module name and ndarray is the class name\n",
    "\n",
    "main is the default module\n",
    "\n",
    "#### Modules:\n",
    "[https://www.w3schools.com/python/python_modules.asp]\n",
    "\n",
    "Consider a module to be the same as a code library. A file containing a set of functions you want to include in your application.\n",
    "Modules contains variables, functions and classes"
   ]
  },
  {
   "cell_type": "code",
   "execution_count": 9,
   "metadata": {},
   "outputs": [
    {
     "output_type": "stream",
     "name": "stdout",
     "text": [
      "https://www.shortURL.com/uselpnhw\nhttps://www.shortURL.com/oyuhcip\nNone\n"
     ]
    }
   ],
   "source": [
    "print(s.getShortURL(\"appliedaicourse\"))\n",
    "print(s.getShortURL(\"gate.appliedcourse.com\"))\n",
    "\n",
    "print(s.getLongURL(\"https://www.shortURL.com/alrpoy\"))\n"
   ]
  },
  {
   "cell_type": "code",
   "execution_count": 10,
   "metadata": {},
   "outputs": [
    {
     "output_type": "stream",
     "name": "stdout",
     "text": [
      "{'sxiqaqn': 'appliedaicourse', 'oqupygfc': 'appliedaicourse', 'vlzifbhx': 'gate.appliedcourse.com', 'rnster': 'appliedaicourse', 'wgmkuozkz': 'gate.appliedcourse.com', 'uselpnhw': 'appliedaicourse', 'oyuhcip': 'gate.appliedcourse.com'}\n"
     ]
    }
   ],
   "source": [
    "print(s.d)"
   ]
  },
  {
   "cell_type": "code",
   "execution_count": 11,
   "metadata": {},
   "outputs": [
    {
     "output_type": "stream",
     "name": "stdout",
     "text": [
      "{'sxiqaqn': 'appliedaicourse', 'oqupygfc': 'appliedaicourse', 'vlzifbhx': 'gate.appliedcourse.com', 'rnster': 'appliedaicourse', 'wgmkuozkz': 'gate.appliedcourse.com', 'uselpnhw': 'appliedaicourse', 'oyuhcip': 'gate.appliedcourse.com', 'interviewprep.appliedcourse.com': 'abcdefgh'}\n"
     ]
    }
   ],
   "source": [
    "s.d[\"interviewprep.appliedcourse.com\"] = \"abcdefgh\";\n",
    "\n",
    "print(s.d)"
   ]
  },
  {
   "cell_type": "code",
   "execution_count": 31,
   "metadata": {},
   "outputs": [
    {
     "output_type": "stream",
     "name": "stdout",
     "text": [
      "<class '__main__.EmptyClass'>\naaa\n"
     ]
    }
   ],
   "source": [
    "# No need to have any atributes or methods, similar to structs in C -> they only have attributes, no methods, not widely used\n",
    "class EmptyClass:\n",
    "    pass #use pass if nothing needs to be done\n",
    "\n",
    "e = EmptyClass();\n",
    "e.name = \"aaa\"\n",
    "e.dept = \"bbb\"\n",
    "e.salary = 100\n",
    "print(type(e))\n",
    "print(e.name)\n",
    "\n",
    "#There is no constructor being passed to EmptyClass, then how is the class initialized?\n",
    "# In python, any class we create is by default inherited from a class called \"object\"\n",
    "# Every class we define is derived from object\n"
   ]
  },
  {
   "cell_type": "code",
   "execution_count": null,
   "metadata": {},
   "outputs": [],
   "source": [
    "# Python internaly converts a class as follows\n",
    "### object is the base class for all classes in Python\n",
    " \n",
    "class MyClass(object): # object is the base-class by default and implicitly.\n",
    "    pass\n",
    "\n",
    "# functions of \"object\" class\n",
    "# __new__() : creates a new object and calls the __init__()\n",
    "# __init__() : default constructor which is being called by every class that inherits the object class\n",
    "# __str__() : write code to convert object into string for printing. eg while printing list, it internally calls the __str__() of the class List to print the contents of the array in the way it does. Any class which needs to convert an object of class to string for printing purpose, need to override this method\n",
    "\n",
    "# __new__(): When a class implements the object class, the constructor doesnt get called first, the new() method is called which does some memory allcoaction and some other things and then the __init__ function is called by __new__. This is an internal pyton implementation"
   ]
  },
  {
   "cell_type": "code",
   "execution_count": 33,
   "metadata": {},
   "outputs": [
    {
     "output_type": "stream",
     "name": "stdout",
     "text": [
      "<class 'list'>\n[1, 2, 3, 4]\n"
     ]
    }
   ],
   "source": [
    "a = [1,2,3,4]; #List is also a child class of \"object\" class\n",
    "print(type(a))\n",
    "\n",
    "print(a)"
   ]
  },
  {
   "cell_type": "code",
   "execution_count": 36,
   "metadata": {},
   "outputs": [
    {
     "output_type": "stream",
     "name": "stdout",
     "text": [
      "any string representation of the object of this class that we want\n"
     ]
    }
   ],
   "source": [
    "class ClassWithStr(): #default object is the base class\n",
    "    def __str__(self):\n",
    "        return \"any string representation of the object of this class that we want\"\n",
    "    # pass\n",
    "    \n",
    "c1 = ClassWithStr();\n",
    "print(c1)"
   ]
  },
  {
   "cell_type": "code",
   "execution_count": null,
   "metadata": {},
   "outputs": [],
   "source": [
    "### Example: https://matplotlib.org/3.1.1/api/axis_api.html for inheritance for axis submodule"
   ]
  },
  {
   "cell_type": "code",
   "execution_count": null,
   "metadata": {},
   "outputs": [],
   "source": [
    "### There are lots of internals and boundary cases for which reading documentation is a good idea.\n",
    "- https://docs.python.org/3/tutorial/classes.html\n",
    "    \n",
    "#### We will focus more on applied aspects in the context of ML/AI."
   ]
  },
  {
   "cell_type": "code",
   "execution_count": 13,
   "metadata": {},
   "outputs": [],
   "source": [
    "# Class variables shared by all objects\n",
    "\n",
    "# Class: group all variables/attributes and functions/methods into a soingle logical unit\n",
    "\n",
    "class ShortURL1:\n",
    "    \n",
    "    URLPrefix = \"https://www.shortURL.com/\"; # class variable shared by all objects\n",
    "    \n",
    "    def __init__(self): # constructor; not must, but, good to have;  initialize all attributes here\n",
    "        self.d=dict();\n",
    "\n",
    "    # given a long URL, get a short URL\n",
    "    def getShortURL(self, longURL): # first argument to all methods is \"self\" => this object\n",
    "        # length = random value in 6-10\n",
    "        l = random.randint(6,10);\n",
    "        \n",
    "\n",
    "        # generate random characters into a string of length l\n",
    "        chars = string.ascii_lowercase\n",
    "        shortURL = ''.join(random.choice(chars) for i in range(l))\n",
    "        \n",
    "\n",
    "        # check if this string is already present in dict d\n",
    "        if shortURL in self.d:\n",
    "            return getShortURL(longURL);\n",
    "        else:\n",
    "            self.d[shortURL] = longURL;\n",
    "\n",
    "        \n",
    "        r = self.URLPrefix + shortURL\n",
    "        return r;\n",
    "\n",
    "    def getLongURL(self, shortURL):\n",
    "\n",
    "       # print(self.d); # print statemnt for debugging\n",
    "        \n",
    "        # extarct key from URL https://www.shortURL.com/mxzmuis ---> mxzmuis\n",
    "        k = shortURL[25:];\n",
    "        \n",
    "\n",
    "        if k in self.d:\n",
    "            return self.d[k];\n",
    "        else:\n",
    "            return None;\n"
   ]
  },
  {
   "cell_type": "code",
   "execution_count": 14,
   "metadata": {},
   "outputs": [
    {
     "output_type": "stream",
     "name": "stdout",
     "text": [
      "https://www.shortURL.com/dfqkxdvrz\nhttps://www.shortURL.com/dgcmpo\n"
     ]
    }
   ],
   "source": [
    "s1 = ShortURL1();\n",
    "\n",
    "print(s1.getShortURL(\"appliedaicourse.com\"))\n",
    "print(s1.getShortURL(\"gate.appliedaicourse.com\"))"
   ]
  },
  {
   "cell_type": "code",
   "execution_count": 15,
   "metadata": {},
   "outputs": [
    {
     "output_type": "stream",
     "name": "stdout",
     "text": [
      "{'dfqkxdvrz': 'appliedaicourse.com', 'dgcmpo': 'gate.appliedaicourse.com'}\nhttps://www.shortURL.com/\n"
     ]
    }
   ],
   "source": [
    "print(s1.d)\n",
    "print(s1.URLPrefix)"
   ]
  },
  {
   "cell_type": "code",
   "execution_count": 16,
   "metadata": {},
   "outputs": [
    {
     "output_type": "stream",
     "name": "stdout",
     "text": [
      "https://www.shortURL.com/\n{}\n"
     ]
    }
   ],
   "source": [
    "s1a = ShortURL1();\n",
    "print(s1a.URLPrefix);\n",
    "print(s1a.d)"
   ]
  },
  {
   "cell_type": "code",
   "execution_count": null,
   "metadata": {},
   "outputs": [],
   "source": [
    "#### If you have learnt OOP in C++/Java, it is very easy to get confused with syntax and internals. Please beware"
   ]
  },
  {
   "cell_type": "code",
   "execution_count": 18,
   "metadata": {},
   "outputs": [],
   "source": [
    "\n",
    "# \"Private Members\": cannot be accessed outside the class\n",
    "\n",
    "# Class: group all variables/attributes and functions/methods into a single logical unit\n",
    "\n",
    "class ShortURL2:\n",
    "    \n",
    "    classVar = \"test\"; # Public => accesible directly from outside the class\n",
    "    \n",
    "    __URLPrefix = \"https://www.shortURL.com/\"; # \"Private\" memebers (created using __). Member => attribute or method\n",
    "    \n",
    "    def __init__(self): # constructor; not must, but, good to have;  initialize all attributes here\n",
    "        self.d=dict();\n",
    "\n",
    "    # given a long URL, get a short URL\n",
    "    def getShortURL(self, longURL): # first argument to all methods is \"self\" => this object\n",
    "        # length = random value in 6-10\n",
    "        l = random.randint(6,10);\n",
    "        \n",
    "\n",
    "        # generate random characters into a string of length l\n",
    "        chars = string.ascii_lowercase\n",
    "        shortURL = ''.join(random.choice(chars) for i in range(l))\n",
    "        \n",
    "\n",
    "        # check if this string is already present in dict d\n",
    "        if shortURL in self.d:\n",
    "            return getShortURL(longURL);\n",
    "        else:\n",
    "            self.d[shortURL] = longURL;\n",
    "\n",
    "        \n",
    "        r = self.__URLPrefix + shortURL\n",
    "        return r;\n",
    "\n",
    "    def getLongURL(self, shortURL):\n",
    "\n",
    "       # print(self.d); # print statemnt for debugging\n",
    "        \n",
    "        # extarct key from URL https://www.shortURL.com/mxzmuis ---> mxzmuis\n",
    "        k = shortURL[25:];\n",
    "        \n",
    "\n",
    "        if k in self.d:\n",
    "            return self.d[k];\n",
    "        else:\n",
    "            return None;\n"
   ]
  },
  {
   "cell_type": "code",
   "execution_count": 19,
   "metadata": {},
   "outputs": [
    {
     "output_type": "stream",
     "name": "stdout",
     "text": [
      "test\n"
     ]
    },
    {
     "output_type": "error",
     "ename": "AttributeError",
     "evalue": "'ShortURL2' object has no attribute '__URLPrefix'",
     "traceback": [
      "\u001b[1;31m---------------------------------------------------------------------------\u001b[0m",
      "\u001b[1;31mAttributeError\u001b[0m                            Traceback (most recent call last)",
      "\u001b[1;32m<ipython-input-19-4fd735b2fbbe>\u001b[0m in \u001b[0;36m<module>\u001b[1;34m\u001b[0m\n\u001b[0;32m      1\u001b[0m \u001b[0ms2\u001b[0m \u001b[1;33m=\u001b[0m \u001b[0mShortURL2\u001b[0m\u001b[1;33m(\u001b[0m\u001b[1;33m)\u001b[0m\u001b[1;33m;\u001b[0m\u001b[1;33m\u001b[0m\u001b[1;33m\u001b[0m\u001b[0m\n\u001b[0;32m      2\u001b[0m \u001b[0mprint\u001b[0m\u001b[1;33m(\u001b[0m\u001b[0ms2\u001b[0m\u001b[1;33m.\u001b[0m\u001b[0mclassVar\u001b[0m\u001b[1;33m)\u001b[0m\u001b[1;33m\u001b[0m\u001b[1;33m\u001b[0m\u001b[0m\n\u001b[1;32m----> 3\u001b[1;33m \u001b[0mprint\u001b[0m\u001b[1;33m(\u001b[0m\u001b[0ms2\u001b[0m\u001b[1;33m.\u001b[0m\u001b[0m__URLPrefix\u001b[0m\u001b[1;33m)\u001b[0m\u001b[1;33m\u001b[0m\u001b[1;33m\u001b[0m\u001b[0m\n\u001b[0m",
      "\u001b[1;31mAttributeError\u001b[0m: 'ShortURL2' object has no attribute '__URLPrefix'"
     ]
    }
   ],
   "source": [
    "s2 = ShortURL2();\n",
    "print(s2.classVar)\n",
    "print(s2.__URLPrefix)"
   ]
  },
  {
   "cell_type": "code",
   "execution_count": null,
   "metadata": {},
   "outputs": [],
   "source": [
    "Abstraction: https://en.wikipedia.org/wiki/Abstractionprinciple(computer_programming)\n",
    "As a recommendation to the programmer, in its formulation by Benjamin C. Pierce in Types and Programming Languages (2002), the abstraction principle reads: “ Each significant piece of functionality in a program should be implemented in just one place in the source code. Where similar functions are carried out by distinct pieces of code, it is generally beneficial to combine them into one by abstracting out the varying parts. ”\n",
    "General concept in porgramming: libraries, classes\n",
    "\n",
    "\"Its main goal is to handle complexity by hiding unnecessary details from the user. That enables the user to implement more complex logic on top of the provided abstraction without understanding or even thinking about all the hidden complexity.\" Source: https://stackify.com/oop-concept-abstraction/"
   ]
  },
  {
   "cell_type": "code",
   "execution_count": null,
   "metadata": {},
   "outputs": [],
   "source": [
    " Encapsulation: [https://en.wikipedia.org/wiki/Encapsulation_(computer_programming)]\n",
    "In object-oriented programming languages, and other related fields, encapsulation refers to one of two related but distinct notions, and sometimes to the combination thereof:\n",
    "\n",
    "1.  A language mechanism for restricting direct access to some of the object's components. (private members of the class)\n",
    "2. A language construct that facilitates the bundling of data with the methods (or other functions) operating on that data."
   ]
  },
  {
   "cell_type": "code",
   "execution_count": null,
   "metadata": {},
   "outputs": [],
   "source": [
    "Design a MyURLShortner built on top of ShortURLFinal (given in a module) with some changes\n",
    "Change getShortURL to have both alphabets and numbers\n",
    "Change the URLPrefix to my website (myurlshortner.com)"
   ]
  },
  {
   "cell_type": "code",
   "execution_count": 22,
   "metadata": {},
   "outputs": [],
   "source": [
    "# Following is the final implementation of ShortURL in the library\n",
    "\n",
    "class ShortURLFinal:\n",
    "    \n",
    "    URLPrefix = \"https://www.shortURL.com/\"; # class-variable\n",
    "    \n",
    "    def __init__(self): # constructor; not must, but, good to have;  initialize all attributes here\n",
    "        self.d=dict();\n",
    "\n",
    "    # given a long URL, get a short URL\n",
    "    def getShortURL(self, longURL): # first argument to all methods is \"self\" => this object\n",
    "        # length = random value in 6-10\n",
    "        l = random.randint(6,10);\n",
    "        \n",
    "\n",
    "        # generate random characters into a string of length l\n",
    "        chars = string.ascii_lowercase\n",
    "        shortURL = ''.join(random.choice(chars) for i in range(l))\n",
    "        \n",
    "\n",
    "        # check if this string is already present in dict d\n",
    "        if shortURL in self.d:\n",
    "            return getShortURL(longURL);\n",
    "        else:\n",
    "            self.d[shortURL] = longURL;\n",
    "\n",
    "        \n",
    "        r = self.URLPrefix + shortURL\n",
    "        return r;\n",
    "\n",
    "    def getLongURL(self, shortURL):\n",
    "\n",
    "       # print(self.d); # print statemnt for debugging\n",
    "        \n",
    "        # extarct key from URL https://www.shortURL.com/mxzmuis ---> mxzmuis\n",
    "        k = shortURL[25:];\n",
    "        \n",
    "\n",
    "        if k in self.d:\n",
    "            return self.d[k];\n",
    "        else:\n",
    "            return None;\n"
   ]
  },
  {
   "cell_type": "code",
   "execution_count": 23,
   "metadata": {},
   "outputs": [],
   "source": [
    "# Lets define MyURLShortner based on ShortURLFinal\n",
    "\n",
    "# Inheritence: baseclass (ShortURLFinal), derived class(MyURLShortner) [https://docs.python.org/3/tutorial/classes.html#inheritance]\n",
    "\n",
    " # below line means that we want to build a class called MyURLShortner on top of ShortURLFinal\n",
    " #we want to have all the functionalities of MyURLShortner, but want to modify a couple of things\n",
    " #refer image 1\n",
    "class MyURLShortner(ShortURLFinal):\n",
    "    URLPrefix = \"www.myurlshortner.com/\" # overriding as same name as base-class \n",
    "    \n",
    "    #no need to touch the __init__() and the variable d, no need to create constructor it will use constructor of the base class\n",
    "    #  \n",
    "    # given a long URL, get a short URL\n",
    "    def getShortURL(self, longURL): # overriding as same name as base-class, use both digits and lowercase\n",
    "        # length = random value in 6-10\n",
    "        l = random.randint(6,10);\n",
    "        \n",
    "\n",
    "        # generate random characters into a string of length l\n",
    "        chars = string.ascii_lowercase + string.digits # both digits and lowercase\n",
    "        shortURL = ''.join(random.choice(chars) for i in range(l))\n",
    "        \n",
    "\n",
    "        # check if this string is already present in dict d\n",
    "        if shortURL in self.d:\n",
    "            return getShortURL(longURL);\n",
    "        else:\n",
    "            self.d[shortURL] = longURL;\n",
    "\n",
    "        \n",
    "        r = self.URLPrefix + shortURL\n",
    "        return r;\n",
    "    \n",
    "    # getLongURL and dict \"d\" not changed"
   ]
  },
  {
   "cell_type": "code",
   "execution_count": 26,
   "metadata": {},
   "outputs": [
    {
     "output_type": "stream",
     "name": "stdout",
     "text": [
      "{}\n<class '__main__.MyURLShortner'>\n"
     ]
    }
   ],
   "source": [
    "m1 = MyURLShortner(); # base-class constructor is executed\n",
    "\n",
    "print(m1.d)\n",
    "print(type(m1))"
   ]
  },
  {
   "cell_type": "code",
   "execution_count": 25,
   "metadata": {},
   "outputs": [
    {
     "output_type": "stream",
     "name": "stdout",
     "text": [
      "www.myurlshortner.com/m9rtkd2ze\nwww.myurlshortner.com/kv7zxvee\n"
     ]
    }
   ],
   "source": [
    "print(m1.getShortURL(\"amazon.com\"))\n",
    "print(m1.getShortURL(\"google.com\"))"
   ]
  },
  {
   "cell_type": "code",
   "execution_count": 27,
   "metadata": {},
   "outputs": [
    {
     "output_type": "stream",
     "name": "stdout",
     "text": [
      "{}\n"
     ]
    }
   ],
   "source": [
    "print(m1.d)"
   ]
  },
  {
   "cell_type": "code",
   "execution_count": 28,
   "metadata": {},
   "outputs": [
    {
     "output_type": "stream",
     "name": "stdout",
     "text": [
      "10\n20\n"
     ]
    }
   ],
   "source": [
    "class A:\n",
    "    def __init__(self, i):\n",
    "        self.var = i;\n",
    "        \n",
    "    def printVar(self):\n",
    "        print(self.var)\n",
    "    \n",
    "    \n",
    "a = A(10);\n",
    "a.printVar()\n",
    "\n",
    "a = A(20);\n",
    "a.printVar()"
   ]
  },
  {
   "cell_type": "code",
   "execution_count": 32,
   "metadata": {},
   "outputs": [
    {
     "output_type": "stream",
     "name": "stdout",
     "text": [
      "Area of rectangle r1: 26.25\nPerimeter of rectangle r1: 26.0\nColor of rectangle r1: black\nIs rectangle r1 filled ?  False\nIs rectangle r1 filled ?  True\nColor of rectangle r1: orange\n\nArea of circle c1: 452.39\nPerimeter of circle c1: 75.40\nColor of circle c1: black\nIs circle c1 filled ?  False\nIs circle c1 filled ?  True\nColor of circle c1: blue\n"
     ]
    }
   ],
   "source": [
    "# example from geometry: [Source: https://overiq.com/python-101/inheritance-and-polymorphism-in-python/]\n",
    "import math\n",
    " \n",
    "class Shape:\n",
    " \n",
    "    def __init__(self, color='black', filled=False):\n",
    "        self.__color = color\n",
    "        self.__filled = filled\n",
    " \n",
    "    def get_color(self):\n",
    "        return self.__color\n",
    " \n",
    "    def set_color(self, color):\n",
    "        self.__color = color\n",
    " \n",
    "    def get_filled(self):\n",
    "        return self.__filled\n",
    " \n",
    "    def set_filled(self, filled):\n",
    "        self.__filled = filled\n",
    " \n",
    " \n",
    "class Rectangle(Shape):\n",
    " \n",
    "    def __init__(self, length, breadth):\n",
    "        super().__init__() # super.__init__ means that we call the constructor from the Base class (pass arguments if required by the Base class) to initialize the base class. We get variables from Shape and new variables from Reactangle\n",
    "        self.__length = length\n",
    "        self.__breadth = breadth\n",
    " \n",
    "    def get_length(self):\n",
    "        return self.__length\n",
    " \n",
    "    def set_length(self, length):\n",
    "        self.__length = length\n",
    " \n",
    "    def get_breadth(self):\n",
    "        return self.__breadth\n",
    " \n",
    "    def set_breadth(self, breadth):\n",
    "        self.__breadth = breadth\n",
    " \n",
    "    def get_area(self):\n",
    "        return self.__length * self.__breadth\n",
    " \n",
    "    def get_perimeter(self):\n",
    "        return 2 * (self.__length + self.__breadth)\n",
    " \n",
    " \n",
    "class Circle(Shape):\n",
    "    def __init__(self, radius):\n",
    "        super().__init__()\n",
    "        self.__radius = radius\n",
    " \n",
    "    def get_radius(self):\n",
    "        return self.__radius\n",
    " \n",
    "    def set_radius(self, radius):\n",
    "        self.__radius = radius\n",
    " \n",
    "    def get_area(self):\n",
    "        return math.pi * self.__radius ** 2\n",
    " \n",
    "    def get_perimeter(self):\n",
    "        return 2 * math.pi * self.__radius\n",
    " \n",
    " \n",
    "r1 = Rectangle(10.5, 2.5)\n",
    " \n",
    "print(\"Area of rectangle r1:\", r1.get_area())\n",
    "print(\"Perimeter of rectangle r1:\", r1.get_perimeter())\n",
    "print(\"Color of rectangle r1:\", r1.get_color()) #it will first check in the Rectangle class for get_color, if not found, then will check in Shape class\n",
    "print(\"Is rectangle r1 filled ? \", r1.get_filled())\n",
    "r1.set_filled(True)\n",
    "print(\"Is rectangle r1 filled ? \", r1.get_filled())\n",
    "r1.set_color(\"orange\")\n",
    "print(\"Color of rectangle r1:\", r1.get_color())\n",
    " \n",
    "c1 = Circle(12)\n",
    " \n",
    "print(\"\\nArea of circle c1:\", format(c1.get_area(), \"0.2f\"))\n",
    "print(\"Perimeter of circle c1:\", format(c1.get_perimeter(), \"0.2f\"))\n",
    "print(\"Color of circle c1:\", c1.get_color())\n",
    "print(\"Is circle c1 filled ? \", c1.get_filled())\n",
    "c1.set_filled(True)\n",
    "print(\"Is circle c1 filled ? \", c1.get_filled())\n",
    "c1.set_color(\"blue\")\n",
    "print(\"Color of circle c1:\", c1.get_color())\n",
    "\n"
   ]
  },
  {
   "cell_type": "code",
   "execution_count": null,
   "metadata": {},
   "outputs": [],
   "source": []
  }
 ]
}