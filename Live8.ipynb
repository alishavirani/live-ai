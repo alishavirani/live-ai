{
 "metadata": {
  "language_info": {
   "codemirror_mode": {
    "name": "ipython",
    "version": 3
   },
   "file_extension": ".py",
   "mimetype": "text/x-python",
   "name": "python",
   "nbconvert_exporter": "python",
   "pygments_lexer": "ipython3",
   "version": "3.6.9-final"
  },
  "orig_nbformat": 2,
  "kernelspec": {
   "name": "python3",
   "display_name": "Python 3.6.9 64-bit",
   "metadata": {
    "interpreter": {
     "hash": "31f2aee4e71d21fbe5cf8b01ff0e069b9275f58929596ceb00d14d90e3e16cd6"
    }
   }
  }
 },
 "nbformat": 4,
 "nbformat_minor": 2,
 "cells": [
  {
   "cell_type": "code",
   "execution_count": null,
   "metadata": {},
   "outputs": [],
   "source": [
    "# OOP- II\n",
    "- Multiple-inheritence, Polymorphism, iterator-objects\n",
    "- Will cover a few good ideas like dir()"
   ]
  },
  {
   "cell_type": "code",
   "execution_count": null,
   "metadata": {},
   "outputs": [],
   "source": [
    "### How is OOP typically used in an ML role:\n",
    "- Using existing Classes.\n",
    "- Reading documentation to understand how to use a function/class/module.\n",
    "- Fixing code bugs and understanding error messages.\n",
    "- Extending existing classes to modify some fucntionality in an existing class\n",
    "- Working with Software enigneers to build some ML classes for them to use in the larger software.\n",
    "- Do not perform OOD (low-level design) without understanding it well. Typically done by senior engineers(experience > 5 years)/architects. A good beginner's book: https://learning.oreilly.com/library/view/head-first-design/0596007124/"
   ]
  },
  {
   "cell_type": "code",
   "execution_count": null,
   "metadata": {},
   "outputs": [],
   "source": [
    "### Multiple-inheritence\n",
    "\n",
    "Several parent classes, 1 derived Class.\n",
    "Not used much, dangerous in Python\n",
    "\n",
    "https://docs.python.org/3/tutorial/classes.html#multiple-inheritance\n",
    "\n",
    "class DerivedClassName(Base1, Base2, Base3):\n",
    "    <br>....\n",
    "    <br>....\n",
    "    \n"
   ]
  },
  {
   "cell_type": "code",
   "execution_count": 2,
   "metadata": {},
   "outputs": [
    {
     "output_type": "stream",
     "name": "stdout",
     "text": [
      "explore in A  called\nsearch in B  called\ndiscover() in C  called\ntest() in D called\n"
     ]
    }
   ],
   "source": [
    "# toy-example: Modifications on https://overiq.com/python-101/inheritance-and-polymorphism-in-python/\n",
    "\n",
    "#multiple inheritance follows depth first approach and left to right approach for executing methods with the same name\n",
    "# while executing a method, it first checks within the class first to which the object belongs, if method not found, then it checks for the depth first class in left to right manner\n",
    "#refer image 2,3\n",
    "class A:\n",
    "    def explore(self):\n",
    "        print(\"explore in A  called\")\n",
    "class B:\n",
    "    def search(self):\n",
    "        print(\"search in B  called\")\n",
    "\n",
    "    def explore(self):\n",
    "        print(\"explore in B called\")\n",
    "\n",
    "    def test(self):\n",
    "        print(\"test in B called\")\n",
    "\n",
    "class C:\n",
    "    def discover(self):\n",
    "        print(\"discover() in C  called\")\n",
    "\n",
    "class D(A, B, C): # multiple inheritence, order of inheritance is very important\n",
    "    def test(self):\n",
    "        print(\"test() in D called\")\n",
    " \n",
    " \n",
    "d_obj = D()\n",
    "d_obj.explore() #1st inherited class method will be executed\n",
    "d_obj.search()\n",
    "d_obj.discover()\n",
    "d_obj.test()"
   ]
  },
  {
   "cell_type": "code",
   "execution_count": 3,
   "metadata": {},
   "outputs": [
    {
     "output_type": "stream",
     "name": "stdout",
     "text": [
      "explore in B called\n"
     ]
    }
   ],
   "source": [
    "# toy-example: Diamond inheritence a.k.a. Deadly dimaond\n",
    "# refer image 4\n",
    "class A:\n",
    "    def explore(self):\n",
    "        print(\"explore in A  called\")\n",
    "\n",
    "class B(A):\n",
    "\n",
    "    def explore(self):\n",
    "        print(\"explore in B called\")\n",
    "\n",
    "class C(A):\n",
    "    def explore(self):\n",
    "        print(\"explore in C  called\")\n",
    "\n",
    "class D(B, C): # multiple inheritence\n",
    "    pass;\n",
    " \n",
    "\n",
    "d_obj = D()\n",
    "d_obj.explore()"
   ]
  },
  {
   "cell_type": "code",
   "execution_count": null,
   "metadata": {},
   "outputs": [],
   "source": [
    "### Polymorphism\n",
    "- Different/many forms in different context\n",
    "- Operator level Polymorphism: 2+3 (addition), \"abc\" + \"def\"(concat) ie \"+\" operator is taking different forms based on the context\n",
    "- Function level Polymorphism: len([1,2,3]), len (\"abcdef\"), len({1,2,3,4}), len is behaving differently if we pass lst, string, set\n",
    "- Class level Polymorphism"
   ]
  },
  {
   "cell_type": "code",
   "execution_count": 4,
   "metadata": {},
   "outputs": [
    {
     "output_type": "stream",
     "name": "stdout",
     "text": [
      "3\n6\n4\n"
     ]
    }
   ],
   "source": [
    "#function level Polymorphism\n",
    "print(len([1,2,3]));\n",
    "print(len(\"abcdef\"))\n",
    "print(len({1,2,3,4}))\n"
   ]
  },
  {
   "cell_type": "code",
   "execution_count": 5,
   "metadata": {},
   "outputs": [
    {
     "output_type": "stream",
     "name": "stdout",
     "text": [
      "function p in A\nfunction p in B\n##########################\nfunction p in A\nfunction p in B\n"
     ]
    }
   ],
   "source": [
    "#class level Polymorphism\n",
    "\n",
    "class A:\n",
    "    def p(self):\n",
    "        return \"function p in A\"\n",
    "\n",
    "class B:\n",
    "    def p(self):\n",
    "        return \"function p in B\"\n",
    "    \n",
    "\n",
    "a = A();\n",
    "b = B();\n",
    "\n",
    "for i in (a,b): #tuple of objects a and b\n",
    "    print(i.p()) # the function that runs depends on the object type(a or b) making this code much more elegant and crisp\n",
    "\n",
    "print(\"##########################\")\n",
    "\n",
    "x=a;\n",
    "print(x.p());\n",
    "\n",
    "x=b;\n",
    "print(x.p());"
   ]
  },
  {
   "cell_type": "code",
   "execution_count": 6,
   "metadata": {},
   "outputs": [
    {
     "output_type": "stream",
     "name": "stdout",
     "text": [
      "black\nblack\nblack\n200\n12.566370614359172\n"
     ]
    }
   ],
   "source": [
    "# Polymorphism + Inheritence\n",
    "\n",
    "# example seen earlier: [Source: https://overiq.com/python-101/inheritance-and-polymorphism-in-python/]\n",
    "import math\n",
    " \n",
    "class Shape:\n",
    " \n",
    "    def __init__(self, color='black', filled=False):\n",
    "        self.__color = color\n",
    "        self.__filled = filled\n",
    " \n",
    "    def get_color(self):\n",
    "        return self.__color\n",
    " \n",
    "    def set_color(self, color):\n",
    "        self.__color = color\n",
    " \n",
    "    def get_filled(self):\n",
    "        return self.__filled\n",
    " \n",
    "    def set_filled(self, filled):\n",
    "        self.__filled = filled\n",
    " \n",
    " \n",
    "class Rectangle(Shape):\n",
    " \n",
    "    def __init__(self, length, breadth):\n",
    "        super().__init__()\n",
    "        self.__length = length\n",
    "        self.__breadth = breadth\n",
    " \n",
    "    def get_length(self):\n",
    "        return self.__length\n",
    " \n",
    "    def set_length(self, length):\n",
    "        self.__length = length\n",
    " \n",
    "    def get_breadth(self):\n",
    "        return self.__breadth\n",
    " \n",
    "    def set_breadth(self, breadth):\n",
    "        self.__breadth = breadth\n",
    " \n",
    "    def get_area(self):\n",
    "        return self.__length * self.__breadth\n",
    " \n",
    "    def get_perimeter(self):\n",
    "        return 2 * (self.__length + self.__breadth)\n",
    " \n",
    " \n",
    "class Circle(Shape):\n",
    "    def __init__(self, radius):\n",
    "        super().__init__()\n",
    "        self.__radius = radius\n",
    " \n",
    "    def get_radius(self):\n",
    "        return self.__radius\n",
    " \n",
    "    def set_radius(self, radius):\n",
    "        self.__radius = radius\n",
    " \n",
    "    def get_area(self):\n",
    "        return math.pi * self.__radius ** 2\n",
    " \n",
    "    def get_perimeter(self):\n",
    "        return 2 * math.pi * self.__radius\n",
    "\n",
    "s = Shape();\n",
    "r = Rectangle(10,20);\n",
    "c = Circle(2);\n",
    "\n",
    "for i in (s, r,c):\n",
    "    print(i.get_color()) #All 3 are implemented from Shape bcoz Rectangle and Shape does not have get_color\n",
    "    \n",
    "for i in (r,c):\n",
    "    print(i.get_area())"
   ]
  },
  {
   "cell_type": "code",
   "execution_count": 7,
   "metadata": {},
   "outputs": [
    {
     "output_type": "stream",
     "name": "stdout",
     "text": [
      "{'a': 1, 'b': 2}\n[1, 2, 3, 4]\n{1, 2, 3, 4}\n"
     ]
    }
   ],
   "source": [
    "# Polymorphism + Inheritence [inbuilt-DS]\n",
    "\n",
    "# List, set, dict will all inherit from the class \"object\" direct or indirect\n",
    "# \"object\" has the method __str__ to help us print\n",
    "# dict, list, set have overwritten the __str__() methods to print in a user friendly format\n",
    "\n",
    "# print() function is implemented in such a way that when we try to print an object it first checks the datatype of that object, say in the for loop i=d, datatype of d is dict, it then calls the __str__ implementation of dict class which overrides the __str__ of \"object\" class\n",
    "#refer image 1\n",
    "\n",
    "d = {'a':1, 'b':2}\n",
    "l = [1,2,3,4]\n",
    "s = {1,2,3,4}\n",
    "\n",
    "for i in (d,l,s):\n",
    "    print(i) # polymorphism + inheritence [__str__ from object]"
   ]
  },
  {
   "cell_type": "code",
   "execution_count": 8,
   "metadata": {},
   "outputs": [
    {
     "output_type": "stream",
     "name": "stdout",
     "text": [
      "1\n2\n3\n4\n"
     ]
    }
   ],
   "source": [
    "### Iteratable objects in Python\n",
    "for i in [1,2,3,4]: #object of class List\n",
    "    print(i)"
   ]
  },
  {
   "cell_type": "code",
   "execution_count": 10,
   "metadata": {},
   "outputs": [],
   "source": [
    "# How to make objects of a class iteratable?\n",
    "# reverse the implementation of list, ie in the loop the i value should be 4,3,2,1 where list is [1,2,3,4]\n",
    "# Source: https://docs.python.org/3/tutorial/classes.html#iterators\n",
    "# To implement an iterable, we will need our class to have the __iter__ and __next__ methods\n",
    "\n",
    "class Reverse:\n",
    "    \"\"\"Iterator for looping over a sequence backwards.\"\"\"\n",
    "    def __init__(self, data): # data can be list or tuple or string (anything which is iterable)\n",
    "        self.data = data #[1,2,3,4]\n",
    "        self.index = len(data) #4\n",
    "\n",
    "    def __iter__(self): #returns the object, every object of class Reverse is iterable bcoz of the presence of __iter__\n",
    "        return self\n",
    "\n",
    "    def __next__(self): #to decide what value does i pick from the data, we need this function, it tells us\n",
    "        if self.index == 0:\n",
    "            raise StopIteration\n",
    "        self.index = self.index - 1 \n",
    "        return self.data[self.index]"
   ]
  },
  {
   "cell_type": "code",
   "execution_count": 11,
   "metadata": {},
   "outputs": [
    {
     "output_type": "stream",
     "name": "stdout",
     "text": [
      "4\n3\n2\n1\n"
     ]
    }
   ],
   "source": [
    "r = Reverse([1,2,3,4]);\n",
    "for i in r:\n",
    "    print(i)"
   ]
  },
  {
   "cell_type": "code",
   "execution_count": 12,
   "metadata": {},
   "outputs": [
    {
     "output_type": "stream",
     "name": "stdout",
     "text": [
      "5\n4\n3\n2\n1\n"
     ]
    }
   ],
   "source": [
    "r = Reverse((1,2,3,4,5));\n",
    "for i in r:\n",
    "    print(i)"
   ]
  },
  {
   "cell_type": "code",
   "execution_count": 13,
   "metadata": {},
   "outputs": [
    {
     "output_type": "stream",
     "name": "stdout",
     "text": [
      "f\ne\nd\nc\nb\na\n"
     ]
    }
   ],
   "source": [
    "r = Reverse(\"abcdef\");\n",
    "for i in r:\n",
    "    print(i)"
   ]
  },
  {
   "cell_type": "code",
   "execution_count": 14,
   "metadata": {},
   "outputs": [
    {
     "output_type": "error",
     "ename": "TypeError",
     "evalue": "'set' object is not subscriptable",
     "traceback": [
      "\u001b[1;31m---------------------------------------------------------------------------\u001b[0m",
      "\u001b[1;31mTypeError\u001b[0m                                 Traceback (most recent call last)",
      "\u001b[1;32m<ipython-input-14-28ae62154c2b>\u001b[0m in \u001b[0;36m<module>\u001b[1;34m\u001b[0m\n\u001b[0;32m      1\u001b[0m \u001b[0mr\u001b[0m \u001b[1;33m=\u001b[0m \u001b[0mReverse\u001b[0m\u001b[1;33m(\u001b[0m\u001b[1;33m{\u001b[0m\u001b[1;36m1\u001b[0m\u001b[1;33m,\u001b[0m\u001b[1;36m2\u001b[0m\u001b[1;33m,\u001b[0m\u001b[1;36m3\u001b[0m\u001b[1;33m,\u001b[0m\u001b[1;36m4\u001b[0m\u001b[1;33m,\u001b[0m\u001b[1;36m5\u001b[0m\u001b[1;33m}\u001b[0m\u001b[1;33m)\u001b[0m\u001b[1;33m;\u001b[0m\u001b[1;33m\u001b[0m\u001b[1;33m\u001b[0m\u001b[0m\n\u001b[1;32m----> 2\u001b[1;33m \u001b[1;32mfor\u001b[0m \u001b[0mi\u001b[0m \u001b[1;32min\u001b[0m \u001b[0mr\u001b[0m\u001b[1;33m:\u001b[0m\u001b[1;33m\u001b[0m\u001b[1;33m\u001b[0m\u001b[0m\n\u001b[0m\u001b[0;32m      3\u001b[0m     \u001b[0mprint\u001b[0m\u001b[1;33m(\u001b[0m\u001b[0mi\u001b[0m\u001b[1;33m)\u001b[0m\u001b[1;33m\u001b[0m\u001b[1;33m\u001b[0m\u001b[0m\n",
      "\u001b[1;32m<ipython-input-10-8529b7b160be>\u001b[0m in \u001b[0;36m__next__\u001b[1;34m(self)\u001b[0m\n\u001b[0;32m     16\u001b[0m             \u001b[1;32mraise\u001b[0m \u001b[0mStopIteration\u001b[0m\u001b[1;33m\u001b[0m\u001b[1;33m\u001b[0m\u001b[0m\n\u001b[0;32m     17\u001b[0m         \u001b[0mself\u001b[0m\u001b[1;33m.\u001b[0m\u001b[0mindex\u001b[0m \u001b[1;33m=\u001b[0m \u001b[0mself\u001b[0m\u001b[1;33m.\u001b[0m\u001b[0mindex\u001b[0m \u001b[1;33m-\u001b[0m \u001b[1;36m1\u001b[0m\u001b[1;33m\u001b[0m\u001b[1;33m\u001b[0m\u001b[0m\n\u001b[1;32m---> 18\u001b[1;33m         \u001b[1;32mreturn\u001b[0m \u001b[0mself\u001b[0m\u001b[1;33m.\u001b[0m\u001b[0mdata\u001b[0m\u001b[1;33m[\u001b[0m\u001b[0mself\u001b[0m\u001b[1;33m.\u001b[0m\u001b[0mindex\u001b[0m\u001b[1;33m]\u001b[0m\u001b[1;33m\u001b[0m\u001b[1;33m\u001b[0m\u001b[0m\n\u001b[0m",
      "\u001b[1;31mTypeError\u001b[0m: 'set' object is not subscriptable"
     ]
    }
   ],
   "source": [
    "r = Reverse({1,2,3,4,5});\n",
    "for i in r:\n",
    "    print(i)"
   ]
  },
  {
   "cell_type": "code",
   "execution_count": null,
   "metadata": {},
   "outputs": [],
   "source": [
    "### Few questions from Yesterday's live session in the chat window"
   ]
  },
  {
   "cell_type": "code",
   "execution_count": null,
   "metadata": {},
   "outputs": [],
   "source": [
    "#Use of empty classes"
   ]
  },
  {
   "cell_type": "code",
   "execution_count": 15,
   "metadata": {},
   "outputs": [
    {
     "output_type": "stream",
     "name": "stdout",
     "text": [
      "abc 123\nxyz abcdefghijklmnop\n"
     ]
    }
   ],
   "source": [
    "# Empty classes as a structure in C lang.\n",
    "\n",
    "class E:\n",
    "    pass\n",
    "\n",
    "e1 = E();\n",
    "e1.name=\"abc\" # name and no attributes for e1\n",
    "e1.no = 123\n",
    "\n",
    "\n",
    "e2 = E(); # name and addr attrib for e2\n",
    "e2.name = \"xyz\"\n",
    "e2.addr = \"abcdefghijklmnop\"\n",
    "\n",
    "\n",
    "print(e1.name, e1.no)\n",
    "print(e2.name, e2.addr)"
   ]
  },
  {
   "cell_type": "code",
   "execution_count": 16,
   "metadata": {},
   "outputs": [
    {
     "output_type": "stream",
     "name": "stdout",
     "text": [
      "11\n"
     ]
    }
   ],
   "source": [
    "# function within __init__\n",
    "class A:\n",
    "    def __init__(self):\n",
    "        \n",
    "        def function_within(x):\n",
    "            return x+1\n",
    "        \n",
    "        i =10;\n",
    "        print(function_within(i))\n",
    "        \n",
    "\n",
    "a = A();"
   ]
  },
  {
   "cell_type": "code",
   "execution_count": 17,
   "metadata": {},
   "outputs": [
    {
     "output_type": "stream",
     "name": "stdout",
     "text": [
      "['__doc__', '__loader__', '__name__', '__package__', '__spec__', 'acos', 'acosh', 'asin', 'asinh', 'atan', 'atan2', 'atanh', 'ceil', 'comb', 'copysign', 'cos', 'cosh', 'degrees', 'dist', 'e', 'erf', 'erfc', 'exp', 'expm1', 'fabs', 'factorial', 'floor', 'fmod', 'frexp', 'fsum', 'gamma', 'gcd', 'hypot', 'inf', 'isclose', 'isfinite', 'isinf', 'isnan', 'isqrt', 'lcm', 'ldexp', 'lgamma', 'log', 'log10', 'log1p', 'log2', 'modf', 'nan', 'nextafter', 'perm', 'pi', 'pow', 'prod', 'radians', 'remainder', 'sin', 'sinh', 'sqrt', 'tan', 'tanh', 'tau', 'trunc', 'ulp']\n"
     ]
    }
   ],
   "source": [
    "# dir() is a powerful inbuilt function in Python3, \n",
    "# which returns list of the attributes and methods of any object\n",
    "# like classes , modules, strings, lists, dictionaries etc.\n",
    "\n",
    "import math\n",
    "print(dir(math)) # module"
   ]
  },
  {
   "cell_type": "code",
   "execution_count": 18,
   "metadata": {},
   "outputs": [
    {
     "output_type": "stream",
     "name": "stdout",
     "text": [
      "['__class__', '__delattr__', '__dict__', '__dir__', '__doc__', '__eq__', '__format__', '__ge__', '__getattribute__', '__gt__', '__hash__', '__init__', '__init_subclass__', '__le__', '__lt__', '__module__', '__ne__', '__new__', '__reduce__', '__reduce_ex__', '__repr__', '__setattr__', '__sizeof__', '__str__', '__subclasshook__', '__weakref__', 'f']\n"
     ]
    }
   ],
   "source": [
    "class B:\n",
    "    def f():\n",
    "        print(\"Hi\");\n",
    "\n",
    "print(dir(B)) #B is inheriting from the \"object\" class, therefore all the methods, attributes etc are of \"object\" class are printed"
   ]
  },
  {
   "cell_type": "code",
   "execution_count": 2,
   "metadata": {},
   "outputs": [
    {
     "output_type": "stream",
     "name": "stdout",
     "text": [
      "17\n"
     ]
    },
    {
     "output_type": "error",
     "ename": "AttributeError",
     "evalue": "'C' object has no attribute '__pr'",
     "traceback": [
      "\u001b[0;31m---------------------------------------------------------------------------\u001b[0m",
      "\u001b[0;31mAttributeError\u001b[0m                            Traceback (most recent call last)",
      "\u001b[0;32m<ipython-input-2-206f74ac7130>\u001b[0m in \u001b[0;36m<module>\u001b[0;34m\u001b[0m\n\u001b[1;32m     12\u001b[0m \u001b[0mprint\u001b[0m\u001b[0;34m(\u001b[0m\u001b[0mc\u001b[0m\u001b[0;34m.\u001b[0m\u001b[0mpu\u001b[0m\u001b[0;34m(\u001b[0m\u001b[0;36m4\u001b[0m\u001b[0;34m)\u001b[0m\u001b[0;34m)\u001b[0m\u001b[0;34m\u001b[0m\u001b[0;34m\u001b[0m\u001b[0m\n\u001b[1;32m     13\u001b[0m \u001b[0;34m\u001b[0m\u001b[0m\n\u001b[0;32m---> 14\u001b[0;31m \u001b[0mprint\u001b[0m\u001b[0;34m(\u001b[0m\u001b[0mc\u001b[0m\u001b[0;34m.\u001b[0m\u001b[0m__pr\u001b[0m\u001b[0;34m(\u001b[0m\u001b[0;36m4\u001b[0m\u001b[0;34m)\u001b[0m\u001b[0;34m)\u001b[0m\u001b[0;34m\u001b[0m\u001b[0;34m\u001b[0m\u001b[0m\n\u001b[0m",
      "\u001b[0;31mAttributeError\u001b[0m: 'C' object has no attribute '__pr'"
     ]
    }
   ],
   "source": [
    "# private methods are just like private attributes that we saw earlier \"__function()\"\n",
    "\n",
    "class C:\n",
    "    def __pr(self, i): #private method\n",
    "        return 2**i;\n",
    "    \n",
    "    def pu(self, x):\n",
    "        return self.__pr(x)+1;\n",
    "\n",
    "c = C();\n",
    "\n",
    "print(c.pu(4))\n",
    "\n",
    "print(c.__pr(4))"
   ]
  },
  {
   "cell_type": "code",
   "execution_count": 3,
   "metadata": {},
   "outputs": [
    {
     "output_type": "stream",
     "name": "stdout",
     "text": [
      "['_C__pr', '__class__', '__delattr__', '__dict__', '__dir__', '__doc__', '__eq__', '__format__', '__ge__', '__getattribute__', '__gt__', '__hash__', '__init__', '__init_subclass__', '__le__', '__lt__', '__module__', '__ne__', '__new__', '__reduce__', '__reduce_ex__', '__repr__', '__setattr__', '__sizeof__', '__str__', '__subclasshook__', '__weakref__', 'pu']\n"
     ]
    }
   ],
   "source": [
    "print(dir(C))\n",
    "\n",
    "#the private function is listed as _C__pr - this is a python hack to cover up python private methods known as \"Name Mangling\""
   ]
  },
  {
   "cell_type": "code",
   "execution_count": 4,
   "metadata": {},
   "outputs": [
    {
     "output_type": "stream",
     "name": "stdout",
     "text": [
      "16\n"
     ]
    }
   ],
   "source": [
    "print(c._C__pr(4)) #it works in this interpreter"
   ]
  },
  {
   "cell_type": "code",
   "execution_count": 5,
   "metadata": {},
   "outputs": [
    {
     "output_type": "stream",
     "name": "stdout",
     "text": [
      "['_C__pr', '__class__', '__delattr__', '__dict__', '__dir__', '__doc__', '__eq__', '__format__', '__ge__', '__getattribute__', '__gt__', '__hash__', '__init__', '__init_subclass__', '__le__', '__lt__', '__module__', '__ne__', '__new__', '__reduce__', '__reduce_ex__', '__repr__', '__setattr__', '__sizeof__', '__str__', '__subclasshook__', '__weakref__', 'pu']\n\n\n***************************************************************************\n\n\n['_C__pr', '__class__', '__delattr__', '__dict__', '__dir__', '__doc__', '__eq__', '__format__', '__ge__', '__getattribute__', '__gt__', '__hash__', '__init__', '__init_subclass__', '__le__', '__lt__', '__module__', '__ne__', '__new__', '__reduce__', '__reduce_ex__', '__repr__', '__setattr__', '__sizeof__', '__str__', '__subclasshook__', '__weakref__', 'f1', 'f2', 'pu']\n17\n"
     ]
    }
   ],
   "source": [
    "# Inheritence of private members\n",
    "#In python everything is public by default, we can make use of private by using __\n",
    "# C++ has public, private, protected [defn in C++ accessible in all sub-classes but not outside the class]\n",
    "\n",
    "# default: public\n",
    "# __: private\n",
    "# _: protected (C++)\n",
    " \n",
    "class C:\n",
    "    def __pr(self, i): # private due to TWO underscores, implementation dependent, suggested \n",
    "        return 2**i;\n",
    "    \n",
    "    def pu(self, x):\n",
    "        return self.__pr(x)+1;\n",
    "\n",
    "print(dir(C))\n",
    "print(\"\\n\\n***************************************************************************\\n\\n\")\n",
    "    \n",
    "class D(C):\n",
    "    def f1(self, i):\n",
    "        #return self.__pr(i) # accessing private member of base class is not allowed, private members can only be accessed from the class itself and not from any sub classes\n",
    "        return self._C__pr(i) # accessing private member of base class is not allowed, this will be allowed bcoz inside dir(d) we have the private function of C: _C__pr\n",
    "    \n",
    "    def f2(self, i):\n",
    "        return self.pu(i) # accessing private member of base class\n",
    "    \n",
    "d = D();\n",
    "print(dir(D)) #also has _C__pr and pu and f1 and f2\n",
    "\n",
    "print(d.f2(4)) "
   ]
  },
  {
   "cell_type": "code",
   "execution_count": 6,
   "metadata": {},
   "outputs": [
    {
     "output_type": "stream",
     "name": "stdout",
     "text": [
      "16\n"
     ]
    }
   ],
   "source": [
    "print(d.f1(4))"
   ]
  },
  {
   "cell_type": "code",
   "execution_count": 7,
   "metadata": {},
   "outputs": [
    {
     "output_type": "stream",
     "name": "stdout",
     "text": [
      "['__class__', '__delattr__', '__dict__', '__dir__', '__doc__', '__eq__', '__format__', '__ge__', '__getattribute__', '__gt__', '__hash__', '__init__', '__init_subclass__', '__le__', '__lt__', '__module__', '__ne__', '__new__', '__reduce__', '__reduce_ex__', '__repr__', '__setattr__', '__sizeof__', '__str__', '__subclasshook__', '__weakref__', '_pr', 'pu']\n\n\n***************************************************************************\n\n\n['__class__', '__delattr__', '__dict__', '__dir__', '__doc__', '__eq__', '__format__', '__ge__', '__getattribute__', '__gt__', '__hash__', '__init__', '__init_subclass__', '__le__', '__lt__', '__module__', '__ne__', '__new__', '__reduce__', '__reduce_ex__', '__repr__', '__setattr__', '__sizeof__', '__str__', '__subclasshook__', '__weakref__', '_pr', 'f1', 'f2', 'pu']\n16\n"
     ]
    }
   ],
   "source": [
    "# Protected in Python: ONE _\n",
    "# Public: NO _\n",
    "# Private: TWO _\n",
    "# Convention and not a feature of the programming language. Implementation dependent\n",
    "# Refer: https://docs.python.org/3/tutorial/classes.html#private-variables\n",
    "\n",
    "class C:\n",
    "    def _pr(self, i): # protected due to ONE underscore, implementation dependent, suggested \n",
    "        return 2**i;\n",
    "    \n",
    "    def pu(self, x):\n",
    "        return self._pr(x)+1;\n",
    "\n",
    "print(dir(C)) #name mangling is not happening, ie _C__pr is not being created, because python does not care about protected, it treats single _ as public only\n",
    "print(\"\\n\\n***************************************************************************\\n\\n\")\n",
    "    \n",
    "class D(C):\n",
    "    def f1(self, i):\n",
    "        return self._pr(i) # accessing private member of base class\n",
    "    \n",
    "    def f2(self, i):\n",
    "        return self.pu(i) # accessing private member of base class\n",
    "    \n",
    "d = D();\n",
    "print(dir(D))\n",
    "\n",
    "print(d.f1(4)) # calling a protected member in base calss from derived class"
   ]
  },
  {
   "cell_type": "code",
   "execution_count": 8,
   "metadata": {},
   "outputs": [
    {
     "output_type": "stream",
     "name": "stdout",
     "text": [
      "8\n"
     ]
    }
   ],
   "source": [
    "c = C();\n",
    "print (c._pr(3)) #can be called outside the class, protected = public using the clang pyhon interpreter\n",
    "\n",
    "#these private and protected implementations can differ from interprter to interpreter"
   ]
  },
  {
   "cell_type": "code",
   "execution_count": 9,
   "metadata": {},
   "outputs": [
    {
     "output_type": "error",
     "ename": "TypeError",
     "evalue": "__init__() missing 1 required positional argument: 'j'",
     "traceback": [
      "\u001b[0;31m---------------------------------------------------------------------------\u001b[0m",
      "\u001b[0;31mTypeError\u001b[0m                                 Traceback (most recent call last)",
      "\u001b[0;32m<ipython-input-9-36f88e9ea02e>\u001b[0m in \u001b[0;36m<module>\u001b[0;34m\u001b[0m\n\u001b[1;32m     14\u001b[0m         \u001b[0;32mreturn\u001b[0m \u001b[0;34m\"\\ni=\"\u001b[0m\u001b[0;34m+\u001b[0m\u001b[0mstr\u001b[0m\u001b[0;34m(\u001b[0m\u001b[0mself\u001b[0m\u001b[0;34m.\u001b[0m\u001b[0mvar1\u001b[0m\u001b[0;34m)\u001b[0m\u001b[0;34m+\u001b[0m\u001b[0;34m\"\\t\"\u001b[0m\u001b[0;34m+\u001b[0m\u001b[0;34m\"j=\"\u001b[0m\u001b[0;34m+\u001b[0m\u001b[0mstr\u001b[0m\u001b[0;34m(\u001b[0m\u001b[0mself\u001b[0m\u001b[0;34m.\u001b[0m\u001b[0mvar2\u001b[0m\u001b[0;34m)\u001b[0m\u001b[0;34m\u001b[0m\u001b[0;34m\u001b[0m\u001b[0m\n\u001b[1;32m     15\u001b[0m \u001b[0;34m\u001b[0m\u001b[0m\n\u001b[0;32m---> 16\u001b[0;31m \u001b[0ma1\u001b[0m \u001b[0;34m=\u001b[0m \u001b[0mA\u001b[0m\u001b[0;34m(\u001b[0m\u001b[0;36m10\u001b[0m\u001b[0;34m)\u001b[0m\u001b[0;34m;\u001b[0m\u001b[0;34m\u001b[0m\u001b[0;34m\u001b[0m\u001b[0m\n\u001b[0m\u001b[1;32m     17\u001b[0m \u001b[0mprint\u001b[0m\u001b[0;34m(\u001b[0m\u001b[0ma1\u001b[0m\u001b[0;34m)\u001b[0m\u001b[0;34m\u001b[0m\u001b[0;34m\u001b[0m\u001b[0m\n\u001b[1;32m     18\u001b[0m \u001b[0;34m\u001b[0m\u001b[0m\n",
      "\u001b[0;31mTypeError\u001b[0m: __init__() missing 1 required positional argument: 'j'"
     ]
    }
   ],
   "source": [
    "# Constructor overloading: does not work in python\n",
    "# 1 or more constructors accepting different no of arguments\n",
    "\n",
    "class A:\n",
    "    def __init__(self, i): #removes this\n",
    "        self.var1 = i;\n",
    "        self.var2 = 0;\n",
    "        \n",
    "    def __init__(self, i,j):\n",
    "        self.var1 = i;\n",
    "        self.var2 = j;\n",
    "        \n",
    "    def __str__(self):\n",
    "        return \"\\ni=\"+str(self.var1)+\"\\t\"+\"j=\"+str(self.var2)\n",
    "        \n",
    "a1 = A(10);\n",
    "print(a1)\n",
    "\n",
    "# We can overload but can only use the most recent or latest function definition\n",
    "        "
   ]
  },
  {
   "cell_type": "code",
   "execution_count": 10,
   "metadata": {},
   "outputs": [
    {
     "output_type": "stream",
     "name": "stdout",
     "text": [
      "\ni=10\tj=20\n"
     ]
    }
   ],
   "source": [
    "a1 = A(10,20);\n",
    "print(a1)"
   ]
  },
  {
   "cell_type": "code",
   "execution_count": 11,
   "metadata": {},
   "outputs": [
    {
     "output_type": "error",
     "ename": "NameError",
     "evalue": "name 'f' is not defined",
     "traceback": [
      "\u001b[0;31m---------------------------------------------------------------------------\u001b[0m",
      "\u001b[0;31mNameError\u001b[0m                                 Traceback (most recent call last)",
      "\u001b[0;32m<ipython-input-11-b8f3ad544ae8>\u001b[0m in \u001b[0;36m<module>\u001b[0;34m\u001b[0m\n\u001b[1;32m     12\u001b[0m         \u001b[0;32mreturn\u001b[0m \u001b[0;34m\"\\ni=\"\u001b[0m\u001b[0;34m+\u001b[0m\u001b[0mstr\u001b[0m\u001b[0;34m(\u001b[0m\u001b[0mself\u001b[0m\u001b[0;34m.\u001b[0m\u001b[0mvar1\u001b[0m\u001b[0;34m)\u001b[0m\u001b[0;34m+\u001b[0m\u001b[0;34m\"\\t\"\u001b[0m\u001b[0;34m+\u001b[0m\u001b[0;34m\"j=\"\u001b[0m\u001b[0;34m+\u001b[0m\u001b[0mstr\u001b[0m\u001b[0;34m(\u001b[0m\u001b[0mself\u001b[0m\u001b[0;34m.\u001b[0m\u001b[0mvar2\u001b[0m\u001b[0;34m)\u001b[0m\u001b[0;34m\u001b[0m\u001b[0;34m\u001b[0m\u001b[0m\n\u001b[1;32m     13\u001b[0m \u001b[0;34m\u001b[0m\u001b[0m\n\u001b[0;32m---> 14\u001b[0;31m \u001b[0ma1\u001b[0m \u001b[0;34m=\u001b[0m \u001b[0mA\u001b[0m\u001b[0;34m(\u001b[0m\u001b[0;36m10\u001b[0m\u001b[0;34m,\u001b[0m\u001b[0;36m20\u001b[0m\u001b[0;34m)\u001b[0m\u001b[0;34m;\u001b[0m\u001b[0;34m\u001b[0m\u001b[0;34m\u001b[0m\u001b[0m\n\u001b[0m\u001b[1;32m     15\u001b[0m \u001b[0mprint\u001b[0m\u001b[0;34m(\u001b[0m\u001b[0ma1\u001b[0m\u001b[0;34m)\u001b[0m\u001b[0;34m\u001b[0m\u001b[0;34m\u001b[0m\u001b[0m\n",
      "\u001b[0;32m<ipython-input-11-b8f3ad544ae8>\u001b[0m in \u001b[0;36m__init__\u001b[0;34m(self, i, j)\u001b[0m\n\u001b[1;32m      3\u001b[0m \u001b[0;32mclass\u001b[0m \u001b[0mA\u001b[0m\u001b[0;34m:\u001b[0m\u001b[0;34m\u001b[0m\u001b[0;34m\u001b[0m\u001b[0m\n\u001b[1;32m      4\u001b[0m     \u001b[0;32mdef\u001b[0m \u001b[0m__init__\u001b[0m\u001b[0;34m(\u001b[0m\u001b[0mself\u001b[0m\u001b[0;34m,\u001b[0m \u001b[0mi\u001b[0m\u001b[0;34m,\u001b[0m\u001b[0mj\u001b[0m\u001b[0;34m)\u001b[0m\u001b[0;34m:\u001b[0m\u001b[0;34m\u001b[0m\u001b[0;34m\u001b[0m\u001b[0m\n\u001b[0;32m----> 5\u001b[0;31m         \u001b[0mf\u001b[0m\u001b[0;34m(\u001b[0m\u001b[0mi\u001b[0m\u001b[0;34m,\u001b[0m\u001b[0mj\u001b[0m\u001b[0;34m)\u001b[0m\u001b[0;34m\u001b[0m\u001b[0;34m\u001b[0m\u001b[0m\n\u001b[0m\u001b[1;32m      6\u001b[0m \u001b[0;34m\u001b[0m\u001b[0m\n\u001b[1;32m      7\u001b[0m     \u001b[0;32mdef\u001b[0m \u001b[0mf\u001b[0m\u001b[0;34m(\u001b[0m\u001b[0mself\u001b[0m\u001b[0;34m,\u001b[0m \u001b[0mi\u001b[0m\u001b[0;34m,\u001b[0m\u001b[0mj\u001b[0m\u001b[0;34m)\u001b[0m\u001b[0;34m:\u001b[0m\u001b[0;34m\u001b[0m\u001b[0;34m\u001b[0m\u001b[0m\n",
      "\u001b[0;31mNameError\u001b[0m: name 'f' is not defined"
     ]
    }
   ],
   "source": [
    "# Can we call other functions inside __init__?\n",
    "\n",
    "class A:\n",
    "    def __init__(self, i,j):\n",
    "        f(i,j) #use self\n",
    "        \n",
    "    def f(self, i,j):\n",
    "        self.var1 = i;\n",
    "        self.var2 = j;\n",
    "        \n",
    "    def __str__(self):\n",
    "        return \"\\ni=\"+str(self.var1)+\"\\t\"+\"j=\"+str(self.var2)\n",
    "        \n",
    "a1 = A(10,20);\n",
    "print(a1)"
   ]
  },
  {
   "cell_type": "code",
   "execution_count": 12,
   "metadata": {},
   "outputs": [
    {
     "output_type": "stream",
     "name": "stdout",
     "text": [
      "\ni=10\tj=20\n"
     ]
    }
   ],
   "source": [
    "class A:\n",
    "        \n",
    "    def __init__(self, i,j):\n",
    "        self.f(i,j)\n",
    "    \n",
    "    def f(self, i,j):\n",
    "        self.var1 = i;\n",
    "        self.var2 = j;\n",
    "        \n",
    "    def __str__(self):\n",
    "        return \"\\ni=\"+str(self.var1)+\"\\t\"+\"j=\"+str(self.var2)\n",
    "        \n",
    "a1 = A(10,20);\n",
    "print(a1)"
   ]
  },
  {
   "cell_type": "code",
   "execution_count": null,
   "metadata": {},
   "outputs": [],
   "source": []
  }
 ]
}