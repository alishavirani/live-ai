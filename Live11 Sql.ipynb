{
 "metadata": {
  "language_info": {
   "codemirror_mode": {
    "name": "ipython",
    "version": 3
   },
   "file_extension": ".py",
   "mimetype": "text/x-python",
   "name": "python",
   "nbconvert_exporter": "python",
   "pygments_lexer": "ipython3",
   "version": "3.6.9-final"
  },
  "orig_nbformat": 2,
  "kernelspec": {
   "name": "python3",
   "display_name": "Python 3.6.9 64-bit",
   "metadata": {
    "interpreter": {
     "hash": "31f2aee4e71d21fbe5cf8b01ff0e069b9275f58929596ceb00d14d90e3e16cd6"
    }
   }
  }
 },
 "nbformat": 4,
 "nbformat_minor": 2,
 "cells": [
  {
   "cell_type": "code",
   "execution_count": null,
   "metadata": {},
   "outputs": [],
   "source": [
    "Level 1 Problem (easy)\n",
    "Problem 1.\n",
    "Schema: <id, marks> -> students\n",
    "Find second highest marks (very commonly asked)\n",
    "\n",
    "Sub problems:\n",
    "1. sort descending order\n",
    "2. pick the 2nd one from the top\n",
    "\n",
    "Edge cases:\n",
    "what if 2 Students have the highest same marks? (duplicates)\n",
    "\n",
    "Ans:\n",
    "SELECT DISTINCT marks FROM students\n",
    "ORDER BY marks DESC\n",
    "LIMIT 1 OFFSET 1\n",
    "\n",
    "Ans:\n",
    "SELECT MAX(marks) AS marks FROM students\n",
    "WHERE marks < (SELECT MAX(marks) FROM students) #nested query returns the max marks, outer query returns the maximum marks out of all of the marks lesser than the max marks"
   ]
  },
  {
   "cell_type": "code",
   "execution_count": null,
   "metadata": {},
   "outputs": [],
   "source": [
    "Level 2 Problem (medium)\n",
    "Problem 2.\n",
    "\n",
    "points: <x,y>\n",
    "Find the shortest istance between the points (asked at Amazon, Microsoft)\n",
    "\n",
    "programming approach:\n",
    "\n",
    "for Pi in points:\n",
    "    for Pj in points:\n",
    "        if Pi != Pj:\n",
    "            compute distance between Pi and Pj and find the minimum\n",
    "\n",
    "nested for loop like structure can be achieved using Joins in SQL\n",
    "\n",
    "Ans:\n",
    "SELECT MIN(SQRT(POW(p1.x - p2.x, 2) + POW(p1.y - p2.y, 2))) as mindist #compute minimum distance b/w 2 points\n",
    "FROM points p1 JOIN points p2 #self join p1 and p2 \n",
    "ON p1.x != p2.x OR p1.y != p2.y #if Pi != Pj:\n",
    "\n",
    "#small optimization, we can swap sqrt and min operation, sqrt is a little time consuming, therefore compute min of the distance first and the minimum's sqrt"
   ]
  },
  {
   "cell_type": "code",
   "execution_count": null,
   "metadata": {},
   "outputs": [],
   "source": [
    "Level 2 Problem (medium)\n",
    "Problem 3.\n",
    "\n",
    "orders: cust, item, date\n",
    "\n",
    "Select customers who purchased atleast 2 items and on 2 different dates\n",
    "\n",
    "Group by COUNT -> distinct date count, distinct item count\n",
    "Having -> item count >= 2 and date count >= 2\n",
    "\n",
    "Ans:\n",
    "SELECT cust, COUNT(DISTINCT item) as itemcount, COUNT(DISTINCT date) as datecount\n",
    "FROM orders\n",
    "GROUP BY cust\n",
    "HAVING itemcount >=2 AND datecount >= 2"
   ]
  },
  {
   "cell_type": "code",
   "execution_count": null,
   "metadata": {},
   "outputs": [],
   "source": [
    "Level 2.5 Problem (medium)\n",
    "Problem 4.\n",
    "GATE question\n",
    "\n",
    "scores: player, country, goals\n",
    "\n",
    "Find players who score more than all spanish players and more than atleast one german player\n",
    "\n",
    "goals > ALL(spanish player goals)    goals > ANY(german player goals)\n",
    "\n",
    "SELECT t.player FROM scores AS t\n",
    "WHERE t.goals > ALL (SELECT t1.goals FROM scores AS t1 WHERE t1.country = 'Spain') #can use max\n",
    "AND t.goals > ANY (SELECT t2.goals FROM scores AS t2 WHERE t2.country = 'Germany') #can use min\n",
    "\n",
    "Alias help with improving readability"
   ]
  },
  {
   "cell_type": "code",
   "execution_count": null,
   "metadata": {},
   "outputs": [],
   "source": [
    "Level 2.5 Problem (medium)\n",
    "Problem 5.\n",
    "GATE question\n",
    "\n",
    "water_schemes: <scheme_no, district_name, capacity>\n",
    "\n",
    "Print names of districts whose total capacity >= average capacity of all districts\n",
    "\n",
    "creating temporary tables\n",
    "\n",
    "total: district_name, capacity <- group by (sum) - water_schemes\n",
    "total_avg: average_capacity <- avg - total\n",
    "result district_name <- where (cross product) - total, total_avg\n",
    "\n",
    "Using sub query refactorin using with in sub query blocks\n",
    "\n",
    "with total(name, capacity) as\n",
    "    select district_name, sum(capacity)\n",
    "    from water_schemes\n",
    "    group by district_name\n",
    "with total_avg(capacity) as\n",
    "    select avg(capacity)\n",
    "    from total\n",
    "select name\n",
    "    from total, total_avg #cross product\n",
    "    where total.capacity >= total_avg.capacity\n",
    "\n",
    "Cross product is combining each row from table 1 to all the rows in table 2\n",
    "Join can be thought of as Cross Product followed by some filtering"
   ]
  }
 ]
}